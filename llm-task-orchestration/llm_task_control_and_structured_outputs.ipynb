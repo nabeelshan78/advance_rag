{
 "cells": [
  {
   "cell_type": "markdown",
   "id": "23794113-05b4-4b51-aff9-e6b159400619",
   "metadata": {},
   "source": [
    "# LLM Task Control & Structured Outputs\n",
    "\n",
    "This notebook demonstrates practical techniques to guide and adapt LLM behavior:\n",
    "- **Query Classification**: Categorizing inputs into domains (e.g., outfit vs. nutritional).\n",
    "- **Parameter Tuning**: Adjusting temperature, top-p, and repetition penalties based on whether a task is technical or creative.\n",
    "- **Structured Outputs**: Guiding models to produce JSON and schema-based responses for use in applications.\n",
    "\n",
    "Supporting utilities are defined in **`utils.py`**, while this notebook walks through examples of classification, flexible response generation, and schema validation.\n"
   ]
  },
  {
   "cell_type": "code",
   "execution_count": null,
   "id": "0ef1e6c8-7221-4ef3-9a3d-f15c00dcb834",
   "metadata": {},
   "outputs": [],
   "source": []
  },
  {
   "cell_type": "code",
   "execution_count": 1,
   "id": "93da5e74-3892-493a-b315-aa148249deb8",
   "metadata": {
    "tags": []
   },
   "outputs": [],
   "source": [
    "from utils import (\n",
    "    generate_with_single_input, \n",
    "    generate_with_multiple_input, \n",
    "    generate_params_dict\n",
    ")"
   ]
  },
  {
   "cell_type": "markdown",
   "id": "01441040-866e-4809-9f28-3d050b723173",
   "metadata": {},
   "source": [
    "## Text Classification with LLMs"
   ]
  },
  {
   "cell_type": "code",
   "execution_count": 2,
   "id": "3add5e37-c3e0-4d47-a767-ede4705b57b8",
   "metadata": {
    "tags": []
   },
   "outputs": [],
   "source": [
    "def check_if_outfit_or_supplement(query):\n",
    "    prompt = f\"\"\"\n",
    "Determine the category of the following query as either \"nutritional\" or \"outfit\" related.\n",
    "- Nutritional queries: These are related to nutrition products, such as protein, vitamins, supplements, dietary products, and health-related food and beverages.\n",
    "  - Outfit queries: These pertain to clothing and fashion, including items like shirts, dresses, shoes, accessories, and jewelry.\n",
    "Examples:\n",
    "\n",
    "1. Query: “Where can I buy high-protein snacks?” Expected answer: Nutritional\n",
    "2. Query: “Best shirt styles for summer 2023” Expected answer: Outfit\n",
    "3. Query: “Are there any shoes designed for running?” Expected answer: Outfit\n",
    "4. Query: “What multivitamins should I take daily?” Expected answer: Nutritional\n",
    "5. Query: “Best weight loss products that are stylish” Expected answer: Nutritional\n",
    "6. Query: “Athletic wear that boosts performance” Expected answer: Outfit \n",
    "\n",
    "Query: {query}\n",
    "\n",
    "Instructions: Respond with “Nutritional” if the query pertains to nutritional products or “Outfit” if it pertains to clothing or fashion products.\n",
    "Answer only one single word.\n",
    "\"\"\"\n",
    "    return prompt"
   ]
  },
  {
   "cell_type": "code",
   "execution_count": 3,
   "id": "74f657d7-d051-469e-a9f4-1723c2f1570a",
   "metadata": {
    "tags": []
   },
   "outputs": [
    {
     "data": {
      "text/plain": [
       "{'role': 'assistant', 'content': 'Nutritional'}"
      ]
     },
     "execution_count": 3,
     "metadata": {},
     "output_type": "execute_result"
    }
   ],
   "source": [
    "# Testing a simple query\n",
    "query = \"Give me the available vitamins supplement you have in your catalogue.\"\n",
    "generate_with_single_input(check_if_outfit_or_supplement(query), max_tokens = 2)"
   ]
  },
  {
   "cell_type": "markdown",
   "id": "08683b1a-f845-4cfe-a709-25fc87390574",
   "metadata": {},
   "source": [
    "Now let's test in a bigger set."
   ]
  },
  {
   "cell_type": "code",
   "execution_count": 4,
   "id": "4a715a9a-ce83-413b-bf10-cabcdd6aa32b",
   "metadata": {
    "tags": []
   },
   "outputs": [
    {
     "name": "stdout",
     "output_type": "stream",
     "text": [
      "Query: Where can I buy whey protein?\n",
      "Result: Nutritional\n",
      "Expected: \u001b[92mNutritional\u001b[0m\n",
      "\n",
      "Query: Recommended vitamins for winter\n",
      "Result: Nutritional\n",
      "Expected: \u001b[92mNutritional\u001b[0m\n",
      "\n",
      "Query: Latest fashion for women's dresses\n",
      "Result: Outfit\n",
      "Expected: \u001b[92mOutfit\u001b[0m\n",
      "\n",
      "Query: Comfortable sneakers for daily use\n",
      "Result: Outfit\n",
      "Expected: \u001b[92mOutfit\u001b[0m\n",
      "\n",
      "Query: Best energy bars for athletes\n",
      "Result: Nutritional\n",
      "Expected: \u001b[92mNutritional\u001b[0m\n",
      "\n",
      "Query: Trendy accessories for men\n",
      "Result: Outfit\n",
      "Expected: \u001b[92mOutfit\u001b[0m\n",
      "\n",
      "Query: Low-carb diet food options\n",
      "Result: Nutritional\n",
      "Expected: \u001b[92mNutritional\u001b[0m\n",
      "\n",
      "Query: What supplements help with muscle recovery?\n",
      "Result: Nutritional\n",
      "Expected: \u001b[92mNutritional\u001b[0m\n",
      "\n",
      "Query: Casual wear that supports healthy living\n",
      "Result: Outfit\n",
      "Expected: \u001b[92mOutfit\u001b[0m\n",
      "\n"
     ]
    }
   ],
   "source": [
    "# ASCII color codes\n",
    "GREEN = '\\033[92m'\n",
    "RED = '\\033[91m'\n",
    "RESET = '\\033[0m'\n",
    "\n",
    "queries = [\n",
    "    {\"query\": \"Where can I buy whey protein?\", \"label\": \"Nutritional\"},\n",
    "    {\"query\": \"Recommended vitamins for winter\", \"label\": \"Nutritional\"},\n",
    "    {\"query\": \"Latest fashion for women's dresses\", \"label\": \"Outfit\"},\n",
    "    {\"query\": \"Comfortable sneakers for daily use\", \"label\": \"Outfit\"},\n",
    "    {\"query\": \"Best energy bars for athletes\", \"label\": \"Nutritional\"},\n",
    "    {\"query\": \"Trendy accessories for men\", \"label\": \"Outfit\"},\n",
    "    {\"query\": \"Low-carb diet food options\", \"label\": \"Nutritional\"},\n",
    "    {\"query\": \"What supplements help with muscle recovery?\", \"label\": \"Nutritional\"},\n",
    "    {\"query\": \"Casual wear that supports healthy living\", \"label\": \"Outfit\"}\n",
    "]\n",
    "\n",
    "for item in queries:\n",
    "    query = item[\"query\"]\n",
    "    prompt = check_if_outfit_or_supplement(query)\n",
    "    expected_label = item[\"label\"]\n",
    "    response = generate_with_single_input(prompt, max_tokens = 2)\n",
    "    result = response['content']\n",
    "    \n",
    "    # Determine color based on comparison\n",
    "    if result == expected_label:\n",
    "        color = GREEN\n",
    "    else:\n",
    "        color = RED\n",
    "\n",
    "    print(f\"Query: {query}\\nResult: {result}\\nExpected: {color}{expected_label}{RESET}\\n\")"
   ]
  },
  {
   "cell_type": "markdown",
   "id": "c6ded033-4bd5-4874-ba13-e90335bc6ee1",
   "metadata": {},
   "source": [
    "## Parameter Setting Based on Tasks\n",
    "\n",
    "Adjust our LLM interactions to be flexible, allowing us to control its behavior based on the nature of the task. This involves determining the nature of the query before requesting the LLM to respond. \n",
    "\n",
    "let's develop a function to categorize a query as either technical or creative. Once categorized, we can apply different parameters suited for each task type. Technical queries generally benefit from lower randomness, whereas creative tasks may benefit from allowing higher randomness."
   ]
  },
  {
   "cell_type": "code",
   "execution_count": 5,
   "id": "6f49554d-3dee-439e-aabe-1ca603ef2c63",
   "metadata": {
    "tags": []
   },
   "outputs": [],
   "source": [
    "def decide_if_technical_or_creative(query):\n",
    "    \"\"\"\n",
    "    Determines whether a given query is creative or technical in nature.\n",
    "\n",
    "    Args:\n",
    "        query (str): The query string to be evaluated.\n",
    "\n",
    "    Returns:\n",
    "        str: A label indicating the query type, either 'creative' or 'technical'.\n",
    "\n",
    "    This function constructs a prompt to classify a query based on its content. \n",
    "    Creative queries typically involve requests to generate original content, whereas \n",
    "    technical queries relate to documentation or technical information, such as procedures.\n",
    "    By leveraging an LLM, it identifies the query type and returns an appropriate label.\n",
    "    \"\"\"\n",
    "    \n",
    "    PROMPT = f\"\"\"Decide if the following query is a creative query or a technical query.\n",
    "    Creative queries ask you to create content, while technical queries are related to documentation or technical requests, like information about procedures.\n",
    "    Answer only 'creative' or 'technical'.\n",
    "    Query: {query}\n",
    "    \"\"\"\n",
    "    result = generate_with_single_input(PROMPT)\n",
    "    label = result['content']\n",
    "    return label"
   ]
  },
  {
   "cell_type": "code",
   "execution_count": 6,
   "id": "6bcb9099-cea9-43e3-90be-517a4e14acb9",
   "metadata": {
    "tags": []
   },
   "outputs": [
    {
     "name": "stdout",
     "output_type": "stream",
     "text": [
      "Query: What is Pi-hole?, label: technical\n",
      "Query: Suggest to me three places to visit in South America, label: creative\n"
     ]
    }
   ],
   "source": [
    "queries = [\"What is Pi-hole?\", \n",
    "           \"Suggest to me three places to visit in South America\"]\n",
    "for query in queries:\n",
    "    label =decide_if_technical_or_creative(query)\n",
    "    print(f\"Query: {query}, label: {label}\")"
   ]
  },
  {
   "cell_type": "code",
   "execution_count": 7,
   "id": "34c2a019-b651-4620-85bc-6551ebf0a34b",
   "metadata": {
    "tags": []
   },
   "outputs": [],
   "source": [
    "def answer_query(query):\n",
    "    \"\"\"\n",
    "    Processes a query and generates an appropriate response by categorizing the query\n",
    "    as either 'technical' or 'creative', and modifies behavior based on this categorization.\n",
    "\n",
    "    Args:\n",
    "        query (str): The query string to be answered.\n",
    "\n",
    "    Returns:\n",
    "        str: A generated response from the LLM tailored to the nature of the query.\n",
    "\n",
    "    This function first determines the nature of the query using the `decide_if_technical_or_creative` function. \n",
    "    If the query is classified as 'technical', it sets parameters suitable for precise and low-variability responses. \n",
    "    If the query is 'creative', it applies parameters allowing for more variability and creativity. \n",
    "    If the classification is inconclusive, it uses neutral parameters. \n",
    "    It then generates a response using these parameters and returns the content.\n",
    "    \"\"\"\n",
    "    \n",
    "    # Determine whether the query is 'technical' or 'creative'\n",
    "    label = decide_if_technical_or_creative(query).lower()\n",
    "\n",
    "    # Set parameters for technical queries (precise, low randomness)\n",
    "    if label == 'technical':\n",
    "        kwargs = generate_params_dict(query, temperature=0, top_p=0.1)\n",
    "    \n",
    "    # Set parameters for creative queries (variable, high randomness)\n",
    "    elif label == 'creative':\n",
    "        kwargs = generate_params_dict(query, temperature=1.1, top_p=0.4)\n",
    "\n",
    "    # Use default parameters if the query type is inconclusive\n",
    "    else:\n",
    "        kwargs = generate_params_dict(query, temperature=0.5, top_p=0.5)\n",
    "    \n",
    "    # Generate a response based on the query type and parameters\n",
    "    response = generate_with_single_input(**kwargs)\n",
    "    \n",
    "    # Extract and return the content from the response\n",
    "    result = response['content']\n",
    "    return result"
   ]
  },
  {
   "cell_type": "code",
   "execution_count": 8,
   "id": "a823aac3-40be-448d-bc3e-1471daefe9b8",
   "metadata": {
    "tags": []
   },
   "outputs": [
    {
     "name": "stdout",
     "output_type": "stream",
     "text": [
      "Query: What is Pi-hole?\n",
      "Answer: Pi-hole is a free, open-source, and self-contained ad-blocking DNS server that can be run on a Raspberry Pi or other single-board computers. It's designed to block ads, trackers, and other unwanted content on your network, providing a more private and secure browsing experience.\n",
      "\n",
      "Here's how it works:\n",
      "\n",
      "1. You install Pi-hole on a Raspberry Pi or other compatible device.\n",
      "2. The device runs a custom Linux distribution, which includes the Pi-hole software.\n",
      "3. The Pi-hole server listens for DNS queries from devices on your network.\n",
      "4. When a device makes a DNS query, the Pi-hole server checks its database of blocked domains, IP addresses, and keywords.\n",
      "5. If the query matches a blocked entry, the Pi-hole server returns a fake IP address, which the device uses to resolve the query.\n",
      "6. The device receives the fake IP address and uses it to access the requested content, without actually visiting the blocked website.\n",
      "\n",
      "Pi-hole uses a combination of DNS filtering, IP blocking, and keyword matching to block unwanted content. It's highly customizable, allowing you to block specific domains, IP addresses, and keywords, as well as set up custom rules and exceptions.\n",
      "\n",
      "Some benefits of using Pi-hole include:\n",
      "\n",
      "* Improved online privacy and security\n",
      "* Reduced exposure to malware and phishing attacks\n",
      "* Ad-blocking and tracker-blocking\n",
      "* Customizable filtering and blocking options\n",
      "* Low resource usage and energy efficiency\n",
      "\n",
      "Pi-hole is a popular choice among users who want to protect their network from online threats and improve their browsing experience. It's also a great option for schools, businesses, and organizations that want to block unwanted content on their networks.\n",
      "\n",
      "#######\n",
      "\n",
      "====================================================================================================\n",
      "Query: Suggest to me three places to visit in South America\n",
      "Answer: South America is a vast and diverse continent, offering countless exciting destinations to explore. Here are three places to visit in South America:\n",
      "\n",
      "1. **Machu Picchu, Peru**: This ancient Inca city is one of the most famous and mysterious sites in South America. Perched on a mountain ridge over 2,400 meters above sea level, Machu Picchu is a breathtaking example of Inca engineering and architecture. The site is steeped in history and mythology, and its stunning natural surroundings make it a must-visit destination.\n",
      "\n",
      "2. **Iguazu Falls, Argentina/Brazil**: Located on the border of Argentina and Brazil, Iguazu Falls is one of the world's most spectacular waterfalls. The falls consist of over 275 individual cascades, spanning almost 2 kilometers in length. Visitors can hike, take a boat tour, or simply stand in awe of the sheer power and beauty of the falls.\n",
      "\n",
      "3. **Rio de Janeiro, Brazil**: Known for its vibrant culture, stunning beaches, and iconic landmarks like Christ the Redeemer and Sugarloaf Mountain, Rio de Janeiro is a city that embodies the spirit of South America. Visitors can enjoy the city's famous Carnival celebrations, take a cable car ride to the top of Sugarloaf Mountain, or simply soak up the sun on Copacabana and Ipanema beaches.\n",
      "\n",
      "These are just a few of the many incredible destinations in South America, but they are definitely worth visiting for their unique blend of history, culture, and natural beauty.\n",
      "\n",
      "#######\n",
      "\n",
      "====================================================================================================\n"
     ]
    }
   ],
   "source": [
    "queries = [\"What is Pi-hole?\", \n",
    "           \"Suggest to me three places to visit in South America\"]\n",
    "for query in queries:\n",
    "    result = answer_query(query)\n",
    "    print(f\"Query: {query}\\nAnswer: {result}\\n\\n#######\\n\")\n",
    "    print('='*100)"
   ]
  },
  {
   "cell_type": "markdown",
   "id": "fe299720-f2a5-4b5d-af12-38271578b3e6",
   "metadata": {},
   "source": [
    "## Guiding the LLM to Output Specific Objects\n",
    "\n",
    "how to make the LLM generate outputs in specific formats, such as JSON, which can be used by another application. This is a crucial aspect when working with an LLM, as applications often require data in precise formats.\n",
    "\n",
    "Let's imagine we're automating our home and want to create our personal assistant to control devices like lights and sound systems. The goal is to translate a user's request into a specific format that our home automation server can understand.\n",
    "\n",
    "In this hypothetical scenario, the format for each action is a JSON structure containing details like this:\n",
    "\n",
    "```json\n",
    "{\n",
    "  \"room\": \"room where the action will occur\",\n",
    "  \"object_id\": \"unique identifier of the targeted object\",\n",
    "  \"object_name\": \"name of the object\",\n",
    "  \"action\": \"action to be performed\",\n",
    "  \"parameters\": \"dictionary containing action-specific parameters\"\n",
    "}\n",
    "```\n",
    "\n",
    "For instance, to turn on the office light and set its color to yellow, we should provide the following JSON to the software:\n",
    "\n",
    "```json\n",
    "{\n",
    "  \"room\": \"office\",\n",
    "  \"object_id\": \"152\",\n",
    "  \"object_name\": \"office_light\",\n",
    "  \"action\": \"turn on\",\n",
    "  \"parameters\": {\"color\": \"yellow\"}\n",
    "}\n",
    "```\n",
    "\n",
    "\n",
    "### The Old-Fashioned Way  \n",
    "\n",
    "Let's start with the old-fashioned way by creating a detailed prompt to pass to the LLM."
   ]
  },
  {
   "cell_type": "code",
   "execution_count": 9,
   "id": "44703e26-d2dd-4774-bb31-b9e31bcc929c",
   "metadata": {
    "tags": []
   },
   "outputs": [],
   "source": [
    "def generate_system_call(command):\n",
    "    PROMPT = f\"\"\"\n",
    "You are an assistant program that converts natural language commands into structured JSON for controlling smart home devices. The JSON should conform to a specific format describing the device, action, and parameters. Here's how you can do it:\n",
    "\n",
    "**Available Devices and Actions:**\n",
    "\n",
    "1. **Light**\n",
    "   - Actions: \"turn on\", \"turn off\"\n",
    "   - Parameters: color, intensity (percentage)\n",
    "\n",
    "2. **Automatic Lock**\n",
    "   - Actions: \"lock\", \"unlock\"\n",
    "   - Parameters: None\n",
    "\n",
    "3. **Sound System (Speaker)**\n",
    "   - Actions: \"play\", \"pause\", \"stop\", \"set volume\"\n",
    "   - Parameters: volume (integer), track (string), playlist_style (string)\n",
    "\n",
    "4. **TV**\n",
    "   - Actions: \"turn on\", \"turn off\", \"change channel\", \"adjust volume\"\n",
    "   - Parameters: channel (string), volume (integer)\n",
    "\n",
    "5. **Air Conditioner**\n",
    "   - Actions: \"turn on\", \"turn off\", \"set temperature\", \"adjust fan speed\"\n",
    "   - Parameters: temperature (integer), fan_speed (low/medium/high)\n",
    "\n",
    "**Rooms and Devices:**\n",
    "- **Office**\n",
    "  - Lights: \"office_light_1\" (ID: 123), \"office_light_2\" (ID: 321)\n",
    "  - Automatic Lock: \"office_door_lock\" (ID: 111)\n",
    "\n",
    "- **Living Room**\n",
    "  - Light: \"living_room_light\" (ID: 222)\n",
    "  - Speaker: \"living_room_speaker\" (ID: 223)\n",
    "  - Air Conditioner: \"living_room_airconditioner\" (ID: 556)\n",
    "\n",
    "- **Kitchen**\n",
    "  - Light: \"kitchen_light\" (ID: 333)\n",
    "\n",
    "- **Bedroom**\n",
    "  - Light: \"bedroom_light\" (ID: 444)\n",
    "  - TV: \"bedroom_tv\" (ID: 445)\n",
    "\n",
    "- **Bathroom**\n",
    "  - Light: \"bathroom_light\" (ID: 555)\n",
    "\n",
    "**Task:**\n",
    "Convert the following natural language command into the structured JSON format based on the available devices:\n",
    "\n",
    "**Input Examples:**\n",
    "\n",
    "1. \"Turn on the office light with ID 123 with blue color and 50% intensity.\"\n",
    "   - JSON:\n",
    "     [\n",
    "     {{\n",
    "       \"room\": \"office\",\n",
    "       \"object_id\": \"123\",\n",
    "       \"object_name\": \"office_light_1\",\n",
    "       \"action\": \"turn on\",\n",
    "       \"parameters\": {{\"color\": \"blue\", \"intensity\": \"50%\"}}\n",
    "     }}\n",
    "     ]\n",
    "\n",
    "2. \"Lock the office door.\"\n",
    "   - JSON:\n",
    "   [\n",
    "     {{\n",
    "       \"room\": \"office\",\n",
    "       \"object_id\": \"111\",\n",
    "       \"object_name\": \"office_door_lock\",\n",
    "       \"action\": \"lock\",\n",
    "       \"parameters\": {{}}\n",
    "     }}\n",
    "    ]\n",
    "\n",
    "2. \"Make my living room a cheerful place\"\n",
    "   - JSON:\n",
    "   [\n",
    "     {{\n",
    "       \"room\": \"living_room\",\n",
    "       \"object_id\": \"222\",\n",
    "       \"object_name\": \"living_room_light\",\n",
    "       \"action\": \"turn on\",\n",
    "       \"parameters\": {{'intensity': '80%', 'color':'yellow'}}\n",
    "     }},\n",
    "     {{\n",
    "       \"room\": \"living_room\",\n",
    "       \"object_id\": \"223\",\n",
    "       \"object_name\": \"living_room_speaker\",\n",
    "       \"action\": \"turn on\",\n",
    "       \"parameters\": {{'volume': '100', 'playlist_style':'party'}}\n",
    "     }},\n",
    "     \n",
    "   ]\n",
    "\n",
    "**Note:**\n",
    "- Ensure that each JSON object correctly maps the natural command to the appropriate device and action using the listed device ID.\n",
    "- Use the object ID to differentiate between devices when the room contains multiple similar items.\n",
    "- You can add more than one parameter in the parameters dictionary.\n",
    "\n",
    "Using this information, translate the following command into JSON: \"{command}\". Output a list with all the necessary JSONs. \n",
    "Always output a list even if there is only one command to be applied, do not output anything else but the desired structure.\n",
    "\"\"\"\n",
    "    kwargs = generate_params_dict(PROMPT, temperature=0.4, top_p=0.1)\n",
    "    result = generate_with_single_input(**kwargs)\n",
    "    return result['content']"
   ]
  },
  {
   "cell_type": "code",
   "execution_count": 10,
   "id": "1f414116-4cb3-4983-8ad1-a86b53da6d7a",
   "metadata": {
    "tags": []
   },
   "outputs": [
    {
     "name": "stdout",
     "output_type": "stream",
     "text": [
      "[\n",
      "  {\n",
      "    \"room\": \"living_room\",\n",
      "    \"object_id\": \"223\",\n",
      "    \"object_name\": \"living_room_speaker\",\n",
      "    \"action\": \"play\",\n",
      "    \"parameters\": {\n",
      "      \"volume\": \"100\",\n",
      "      \"playlist_style\": \"chill\"\n",
      "    }\n",
      "  },\n",
      "  {\n",
      "    \"room\": \"living_room\",\n",
      "    \"object_id\": \"223\",\n",
      "    \"object_name\": \"living_room_speaker\",\n",
      "    \"action\": \"adjust volume\",\n",
      "    \"parameters\": {\n",
      "      \"volume\": \"100\"\n",
      "    }\n",
      "  }\n",
      "]\n"
     ]
    }
   ],
   "source": [
    "print(generate_system_call(\"Play a chill playlist very loud\"))"
   ]
  },
  {
   "cell_type": "code",
   "execution_count": 11,
   "id": "7905f37d-5bf7-455d-9ccd-a1ab6d4b5021",
   "metadata": {
    "tags": []
   },
   "outputs": [
    {
     "name": "stdout",
     "output_type": "stream",
     "text": [
      "[\n",
      "  {\n",
      "    \"room\": \"living_room\",\n",
      "    \"object_id\": \"222\",\n",
      "    \"object_name\": \"living_room_light\",\n",
      "    \"action\": \"turn on\",\n",
      "    \"parameters\": {\"intensity\": \"100%\", \"color\": \"warm white\"}\n",
      "  },\n",
      "  {\n",
      "    \"room\": \"living_room\",\n",
      "    \"object_id\": \"223\",\n",
      "    \"object_name\": \"living_room_speaker\",\n",
      "    \"action\": \"turn on\",\n",
      "    \"parameters\": {\"volume\": \"100\", \"playlist_style\": \"relaxing\"}\n",
      "  },\n",
      "  {\n",
      "    \"room\": \"living_room\",\n",
      "    \"object_id\": \"556\",\n",
      "    \"object_name\": \"living_room_airconditioner\",\n",
      "    \"action\": \"turn on\",\n",
      "    \"parameters\": {\"temperature\": \"18\", \"fan_speed\": \"low\"}\n",
      "  }\n",
      "]\n"
     ]
    }
   ],
   "source": [
    "print(generate_system_call(\"I'm tired today, please make my living room a very cozy ambient, it is really cold today too.\"))"
   ]
  },
  {
   "cell_type": "markdown",
   "id": "9a34084d-bc33-49fa-a727-6914ade8495d",
   "metadata": {},
   "source": [
    "### Using LLM structured output parameter\n",
    "\n",
    "It is possible to force the LLM to output a JSON using [Pydantic](https://docs.pydantic.dev/latest/) to help it validate the data structure, so we make sure that the output is always a JSON! "
   ]
  },
  {
   "cell_type": "code",
   "execution_count": 12,
   "id": "b1476659-5138-4a83-9c69-34548e56bcda",
   "metadata": {
    "tags": []
   },
   "outputs": [],
   "source": [
    "from pydantic import BaseModel, validator, conint, Field\n",
    "from typing import Literal, Union, Optional, List\n",
    "import json\n",
    "\n",
    "# Define the schema for the output\n",
    "class VoiceNote(BaseModel):\n",
    "    title: str = Field(description=\"A title for the voice note\")\n",
    "    summary: str = Field(description=\"A short one sentence summary of the voice note.\")\n",
    "    actionItems: list[str] = Field(\n",
    "        description=\"A list of action items from the voice note\"\n",
    "    )\n"
   ]
  },
  {
   "cell_type": "code",
   "execution_count": 13,
   "id": "6500d419-5f35-43e3-8efa-7faacc1a8ca5",
   "metadata": {
    "tags": []
   },
   "outputs": [
    {
     "name": "stdout",
     "output_type": "stream",
     "text": [
      "{\n",
      "  \"title\": \"Morning Routine\",\n",
      "  \"summary\": \"Up and active at 7:00 AM: Breakfast preparation, email check\",\n",
      "  \"actionItems\": [\n",
      "    \"> Wake up at 7:00 AM\",\n",
      "    \"Prepare scrambled eggs\",\n",
      "    \"Prepare toast\",\n",
      "    \"Grab a cup of coffee\",\n",
      "    \"Check and respond to urgent emails\"\n",
      "  ]\n",
      "}\n"
     ]
    }
   ],
   "source": [
    "transcript = (\n",
    "        \"Good morning! It's 7:00 AM, and I'm just waking up. Today is going to be a busy day, \"\n",
    "        \"so let's get started. First, I need to make a quick breakfast. I think I'll have some \"\n",
    "        \"scrambled eggs and toast with a cup of coffee. While I'm cooking, I'll also check my \"\n",
    "        \"emails to see if there's anything urgent.\"\n",
    "    )\n",
    "\n",
    "\n",
    "messages=[\n",
    "            {\n",
    "                \"role\": \"system\",\n",
    "                \"content\": \"The following is a voice message transcript. Only answer in JSON.\",\n",
    "            },\n",
    "            {\n",
    "                \"role\": \"user\",\n",
    "                \"content\": transcript,\n",
    "            },\n",
    "        ]\n",
    "\n",
    "response_format={\n",
    "            \"type\": \"json_schema\",\n",
    "            \"schema\": VoiceNote.model_json_schema(),\n",
    "        }\n",
    "\n",
    "result = generate_with_multiple_input(messages, response_format = response_format)\n",
    "result_json = json.loads(result['content'])\n",
    "print(json.dumps(result_json, indent=2))"
   ]
  },
  {
   "cell_type": "code",
   "execution_count": null,
   "id": "f34055ec-6d7a-4d0e-8f3c-8c5611a0d5dc",
   "metadata": {},
   "outputs": [],
   "source": []
  },
  {
   "cell_type": "code",
   "execution_count": null,
   "id": "2f4319ad-f123-4244-8e26-041f4b23078c",
   "metadata": {},
   "outputs": [],
   "source": []
  }
 ],
 "metadata": {
  "kernelspec": {
   "display_name": "Python 3 (ipykernel)",
   "language": "python",
   "name": "python3"
  },
  "language_info": {
   "codemirror_mode": {
    "name": "ipython",
    "version": 3
   },
   "file_extension": ".py",
   "mimetype": "text/x-python",
   "name": "python",
   "nbconvert_exporter": "python",
   "pygments_lexer": "ipython3",
   "version": "3.12.11"
  }
 },
 "nbformat": 4,
 "nbformat_minor": 5
}
