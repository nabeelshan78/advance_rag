{
 "cells": [
  {
   "cell_type": "markdown",
   "id": "bf75fbe7-631f-42f1-935f-eceab0b32247",
   "metadata": {},
   "source": [
    "# Exploring Text Chunking Strategies for RAG\n",
    "\n",
    "**Objective:** This notebook explores and compares various text chunking strategies, a critical preprocessing step for preparing data for Retrieval-Augmented Generation (RAG) and vector search. We will fetch text from the \"Pro Git\" book and process it using different methods before ingesting it into a Weaviate vector database.\n",
    "\n",
    "### Chunking Strategies Covered:\n",
    "* **Fixed-Size Chunking**: Simple splitting by a fixed word count.\n",
    "* **Chunking with Overlap**: Fixed-size chunks with overlapping content to preserve context across boundaries.\n",
    "* **Variable-Size (Semantic) Chunking**: Splitting based on document structure, like paragraphs or section headers.\n",
    "* **Hybrid Strategy**: A mixed approach combining semantic splitting with a minimum chunk size to balance context and uniformity."
   ]
  },
  {
   "cell_type": "code",
   "execution_count": null,
   "id": "d8a94f1e-9e38-4d56-be38-4cbf6d4da345",
   "metadata": {},
   "outputs": [],
   "source": []
  },
  {
   "cell_type": "code",
   "execution_count": 1,
   "id": "6e848578-2a9a-4149-a1e2-e996517234fd",
   "metadata": {
    "tags": []
   },
   "outputs": [],
   "source": [
    "from typing import List\n",
    "import requests\n",
    "import re\n",
    "import weaviate\n",
    "from weaviate.classes.config import Configure, Property, DataType, Tokenization\n",
    "from weaviate.util import generate_uuid5\n",
    "import tqdm\n",
    "from weaviate.classes.query import Filter"
   ]
  },
  {
   "cell_type": "code",
   "execution_count": 2,
   "id": "3e523dee-d57c-4feb-b706-3f3789cba75b",
   "metadata": {
    "tags": []
   },
   "outputs": [],
   "source": [
    "url = \"https://raw.githubusercontent.com/progit/progit2/main/book/01-introduction/sections/what-is-git.asc\"\n",
    "source_text = requests.get(url).text"
   ]
  },
  {
   "cell_type": "code",
   "execution_count": 3,
   "id": "315ffdac-7fe4-4a65-94bb-44d0b11f53d9",
   "metadata": {
    "tags": []
   },
   "outputs": [
    {
     "name": "stdout",
     "output_type": "stream",
     "text": [
      "[[what_is_git_section]]\n",
      "=== What is Git?\n",
      "\n",
      "So, what is Git in a nutshell?\n",
      "This is an important section to absorb, because if you understand what Git is and the fundamentals of how it works, then using Git effectively will probably be much easier for you.\n",
      "As you learn Git, try to clear your mind of the things you may know about other VCSs, such as CVS, Subversion or Perforce -- doing so will help you avoid subtle confusion when using the tool.\n",
      "Even though Git's user interface is fairly similar to these other VCSs, Git stores and thinks about information in a very different way, and understanding these differences will help you avoid becoming confused while using it.(((Subversion)))(((Perforce)))\n",
      "\n",
      "==== Snapshots, Not Differences\n",
      "\n",
      "The major difference between Git and any other VCS (Subversion and friends included) is the way Git thinks about its data.\n",
      "Conceptually, most other systems store information as a list of file-based changes.\n",
      "These other systems (CVS, Subversion, Perforce, and so o\n"
     ]
    }
   ],
   "source": [
    "print(source_text[:1000])"
   ]
  },
  {
   "cell_type": "code",
   "execution_count": 4,
   "id": "0e0cccc1-9b44-4dbc-a08a-cad0be330635",
   "metadata": {
    "tags": []
   },
   "outputs": [
    {
     "name": "stdout",
     "output_type": "stream",
     "text": [
      "There are about 1403 words in this chapter. Depending on how our LLM tokenizes words, you'd expect roughly 1824 tokens.\n"
     ]
    }
   ],
   "source": [
    "print(f\"There are about {len(source_text.split())} words in this chapter. Depending on how our LLM tokenizes words, you'd expect roughly {round(len(source_text.split())*1.3)} tokens.\")"
   ]
  },
  {
   "cell_type": "markdown",
   "id": "0cab1c42-f8da-47ad-b540-c5a5a170c409",
   "metadata": {},
   "source": [
    "## Fixed-size chunking"
   ]
  },
  {
   "cell_type": "markdown",
   "id": "a41fd9e7-434a-4622-b020-15be37d0f8e2",
   "metadata": {},
   "source": [
    "    Splits into chunks of N words each.\n",
    "    Example: 100 words per chunk.\n",
    "    Simple, but risks cutting paragraphs mid-sentence."
   ]
  },
  {
   "cell_type": "code",
   "execution_count": 5,
   "id": "ce512d1e-b31c-4b6d-9025-4d21894fcb78",
   "metadata": {
    "tags": []
   },
   "outputs": [],
   "source": [
    "def get_chunks_fixed_size(text: str, chunk_size: int) -> List[str]:\n",
    "    \"\"\"\n",
    "    Splits a given text into chunks of a specified fixed size.\n",
    "\n",
    "    Args:\n",
    "        text (str): The input text to be split into chunks.\n",
    "        chunk_size (int): The maximum number of words per chunk.\n",
    "\n",
    "    Returns:\n",
    "        List[str]: A list of text chunks, each containing up to 'chunk_size' words.\n",
    "    \"\"\"\n",
    "    # Split the input text into individual words\n",
    "    text_words = text.split()\n",
    "    \n",
    "    # Initialize a list to hold the chunks of words\n",
    "    chunks = []\n",
    "    \n",
    "    # Iterate over the word indices in steps of 'chunk_size'\n",
    "    for i in range(0, len(text_words), chunk_size):\n",
    "        # Select a sublist of words from 'i' to 'i + chunk_size'\n",
    "        chunk_words = text_words[i: i + chunk_size]\n",
    "        \n",
    "        # Join the selected words into a single string with spaces in between\n",
    "        chunk = \" \".join(chunk_words)\n",
    "        \n",
    "        # Add the chunk to the list of chunks\n",
    "        chunks.append(chunk)\n",
    "    \n",
    "    # Return the list of word chunks\n",
    "    return chunks"
   ]
  },
  {
   "cell_type": "code",
   "execution_count": 6,
   "id": "bc020e1b-693f-4d96-b4b2-c0beb7298f5b",
   "metadata": {
    "tags": []
   },
   "outputs": [],
   "source": [
    "fixed_size_chunks = get_chunks_fixed_size(source_text, chunk_size = 100)"
   ]
  },
  {
   "cell_type": "code",
   "execution_count": 7,
   "id": "a270aec6-4256-4f78-91b6-7c7f5d73c199",
   "metadata": {
    "tags": []
   },
   "outputs": [
    {
     "name": "stdout",
     "output_type": "stream",
     "text": [
      "15\n"
     ]
    }
   ],
   "source": [
    "print(len(fixed_size_chunks))"
   ]
  },
  {
   "cell_type": "code",
   "execution_count": 8,
   "id": "895ba773-d1a6-417d-a7e9-01deb39e81d7",
   "metadata": {
    "tags": []
   },
   "outputs": [
    {
     "data": {
      "text/plain": [
       "[\"[[what_is_git_section]] === What is Git? So, what is Git in a nutshell? This is an important section to absorb, because if you understand what Git is and the fundamentals of how it works, then using Git effectively will probably be much easier for you. As you learn Git, try to clear your mind of the things you may know about other VCSs, such as CVS, Subversion or Perforce -- doing so will help you avoid subtle confusion when using the tool. Even though Git's user interface is fairly similar to these other VCSs, Git stores and thinks about information in\",\n",
       " 'a very different way, and understanding these differences will help you avoid becoming confused while using it.(((Subversion)))(((Perforce))) ==== Snapshots, Not Differences The major difference between Git and any other VCS (Subversion and friends included) is the way Git thinks about its data. Conceptually, most other systems store information as a list of file-based changes. These other systems (CVS, Subversion, Perforce, and so on) think of the information they store as a set of files and the changes made to each file over time (this is commonly described as _delta-based_ version control). .Storing data as changes to a base version of']"
      ]
     },
     "execution_count": 8,
     "metadata": {},
     "output_type": "execute_result"
    }
   ],
   "source": [
    "fixed_size_chunks[0:2]"
   ]
  },
  {
   "cell_type": "markdown",
   "id": "a5577a53-afe9-46d3-8314-780af8d7b056",
   "metadata": {},
   "source": [
    "### Chunking with overlap"
   ]
  },
  {
   "cell_type": "markdown",
   "id": "e97aaf4c-0872-44a3-aaf5-f7d41e16cf08",
   "metadata": {},
   "source": [
    "    Why? Because if a key phrase (like \"information in a very different way\") falls on a boundary, overlap ensures it still appears in the next chunk."
   ]
  },
  {
   "cell_type": "code",
   "execution_count": 9,
   "id": "a695905d-64dd-47ad-883e-2c461db178ed",
   "metadata": {
    "tags": []
   },
   "outputs": [],
   "source": [
    "def get_chunks_fixed_size_with_overlap(text: str, chunk_size: int, overlap_fraction: float) -> List[str]:\n",
    "    \"\"\"\n",
    "    Splits a given text into chunks of a fixed size with a specified overlap fraction between consecutive chunks.\n",
    "\n",
    "    Parameters:\n",
    "    - text (str): The input text to be split into chunks.\n",
    "    - chunk_size (int): The number of words each chunk should contain.\n",
    "    - overlap_fraction (float): The fraction of the chunk size that should overlap with the adjacent chunk.\n",
    "      For example, an overlap_fraction of 0.2 means 20% of the chunk size will be used as overlap.\n",
    "\n",
    "    Returns:\n",
    "    - List[str]: A list of chunks (each a string) where each chunk might overlap with its adjacent chunk.\n",
    "    \"\"\"\n",
    "\n",
    "    # Split the text into individual words\n",
    "    text_words = text.split()\n",
    "    \n",
    "    # Calculate the number of words to overlap between consecutive chunks\n",
    "    overlap_int = int(chunk_size * overlap_fraction)\n",
    "    \n",
    "    # Initialize a list to store the resulting chunks\n",
    "    chunks = []\n",
    "    \n",
    "    # Iterate over text in steps of chunk_size to create chunks\n",
    "    for i in range(0, len(text_words), chunk_size):\n",
    "        # Determine the start and end indices for the current chunk,\n",
    "        # taking into account the overlap with the previous chunk\n",
    "        chunk_words = text_words[max(i - overlap_int, 0): i + chunk_size]\n",
    "        \n",
    "        # Join the selected words to form a chunk string\n",
    "        chunk = \" \".join(chunk_words)\n",
    "        \n",
    "        # Append the chunk to the list of chunks\n",
    "        chunks.append(chunk)\n",
    "    \n",
    "    # Return the list of chunks\n",
    "    return chunks"
   ]
  },
  {
   "cell_type": "code",
   "execution_count": 10,
   "id": "1c4be25c-f99b-4c30-8e1b-b8119fa143ac",
   "metadata": {
    "tags": []
   },
   "outputs": [
    {
     "name": "stdout",
     "output_type": "stream",
     "text": [
      "\n",
      "Size 5 - 281 chunks returned.\n",
      "Chunk 1: [[what_is_git_section]] === What is Git?\n",
      "----------------------------------------------------------------------------------------------------\n",
      "Chunk 2: Git? So, what is Git in\n",
      "----------------------------------------------------------------------------------------------------\n",
      "Chunk 3: in a nutshell? This is an\n",
      "----------------------------------------------------------------------------------------------------\n",
      "====================================================================================================\n",
      "\n",
      "Size 25 - 57 chunks returned.\n",
      "Chunk 1: [[what_is_git_section]] === What is Git? So, what is Git in a nutshell? This is an important section to absorb, because if you understand what Git\n",
      "----------------------------------------------------------------------------------------------------\n",
      "Chunk 2: if you understand what Git is and the fundamentals of how it works, then using Git effectively will probably be much easier for you. As you learn Git, try to\n",
      "----------------------------------------------------------------------------------------------------\n",
      "Chunk 3: you learn Git, try to clear your mind of the things you may know about other VCSs, such as CVS, Subversion or Perforce -- doing so will help you avoid\n",
      "----------------------------------------------------------------------------------------------------\n",
      "====================================================================================================\n",
      "\n",
      "Size 100 - 15 chunks returned.\n",
      "Chunk 1: [[what_is_git_section]] === What is Git? So, what is Git in a nutshell? This is an important section to absorb, because if you understand what Git is and the fundamentals of how it works, then using Git effectively will probably be much easier for you. As you learn Git, try to clear your mind of the things you may know about other VCSs, such as CVS, Subversion or Perforce -- doing so will help you avoid subtle confusion when using the tool. Even though Git's user interface is fairly similar to these other VCSs, Git stores and thinks about information in\n",
      "----------------------------------------------------------------------------------------------------\n",
      "Chunk 2: tool. Even though Git's user interface is fairly similar to these other VCSs, Git stores and thinks about information in a very different way, and understanding these differences will help you avoid becoming confused while using it.(((Subversion)))(((Perforce))) ==== Snapshots, Not Differences The major difference between Git and any other VCS (Subversion and friends included) is the way Git thinks about its data. Conceptually, most other systems store information as a list of file-based changes. These other systems (CVS, Subversion, Perforce, and so on) think of the information they store as a set of files and the changes made to each file over time (this is commonly described as _delta-based_ version control). .Storing data as changes to a base version of\n",
      "----------------------------------------------------------------------------------------------------\n",
      "Chunk 3: file over time (this is commonly described as _delta-based_ version control). .Storing data as changes to a base version of each file image::images/deltas.png[Storing data as changes to a base version of each file] Git doesn't think of or store its data this way. Instead, Git thinks of its data more like a series of snapshots of a miniature filesystem. With Git, every time you commit, or save the state of your project, Git basically takes a picture of what all your files look like at that moment and stores a reference to that snapshot. To be efficient, if files have not changed, Git doesn't store the file again, just a link to the previous identical file it has already stored.\n",
      "----------------------------------------------------------------------------------------------------\n",
      "====================================================================================================\n"
     ]
    }
   ],
   "source": [
    "for chosen_size in [5, 25, 100]:\n",
    "    chunks = get_chunks_fixed_size_with_overlap(source_text, chosen_size, overlap_fraction=0.2)\n",
    "    # Print outputs to screen\n",
    "    print(f\"\\nSize {chosen_size} - {len(chunks)} chunks returned.\")\n",
    "    for i in range(3):\n",
    "        print(f\"Chunk {i+1}: {chunks[i]}\")\n",
    "        print('-'*100)\n",
    "    print('='*100)"
   ]
  },
  {
   "cell_type": "markdown",
   "id": "5b5b1257-6cf2-42fc-ae45-be0abb2aa1b8",
   "metadata": {},
   "source": [
    "Note that the smaller chunks of text are very detailed, but they might **not have enough information to be useful for searching**. In contrast, **larger chunks start to contain more information, similar to a typical paragraph in length**. As these chunks become even longer, **their associated vector embeddings become more general**. Eventually, they reach a point where they are no longer effective for information searching."
   ]
  },
  {
   "cell_type": "markdown",
   "id": "e50e5ff3-7db6-4af5-982b-e2fa022f4a8d",
   "metadata": {},
   "source": [
    "## Variable-size chunking - Recursive Character Splitting"
   ]
  },
  {
   "cell_type": "markdown",
   "id": "ec3c7c86-a1e5-4999-a5ba-f0b12d7ddce2",
   "metadata": {},
   "source": [
    "    Splits by double newlines → keeps semantic structure (paragraphs).\n",
    "    Problem: some paragraphs may be too short (like a heading)."
   ]
  },
  {
   "cell_type": "code",
   "execution_count": 11,
   "id": "edb9ae4a-ef05-4449-b336-35d77ffff8c4",
   "metadata": {
    "tags": []
   },
   "outputs": [],
   "source": [
    "# Split the text into paragraphs\n",
    "def get_chunks_by_paragraph(source_text: str) -> List[str]:\n",
    "    return source_text.split(\"\\n\\n\")"
   ]
  },
  {
   "cell_type": "markdown",
   "id": "654edb37-1654-4f30-84c6-b2488a195665",
   "metadata": {},
   "source": [
    "Another way, in this context, is to split into sections. As we can see inspecting the text, sections are divided with `\\n==` markers."
   ]
  },
  {
   "cell_type": "code",
   "execution_count": 12,
   "id": "ca4a2bc1-2b2e-42dd-b466-46a155b4c4a4",
   "metadata": {
    "tags": []
   },
   "outputs": [],
   "source": [
    "# Split the text by Asciidoc section markers\n",
    "def get_chunks_by_asciidoc_sections(source_text: str) -> List[str]:\n",
    "    return source_text.split(\"\\n==\")"
   ]
  },
  {
   "cell_type": "code",
   "execution_count": 13,
   "id": "668c60f7-7314-4ffe-82e4-b052018f0c0e",
   "metadata": {
    "tags": []
   },
   "outputs": [
    {
     "name": "stdout",
     "output_type": "stream",
     "text": [
      "\n",
      "Using the marker: '\\n\\n' - 31 chunks returned.\n",
      "Chunk 1: '[[what_is_git_section]]\\n=== What is Git?'\n",
      "----------------------------------------------------------------------------------------------------\n",
      "Chunk 2: \"So, what is Git in a nutshell?\\nThis is an important section to absorb, because if you understand what Git is and the fundamentals of how it works, then using Git effectively will probably be much easier for you.\\nAs you learn Git, try to clear your mind of the things you may know about other VCSs, such as CVS, Subversion or Perforce -- doing so will help you avoid subtle confusion when using the tool.\\nEven though Git's user interface is fairly similar to these other VCSs, Git stores and thinks about information in a very different way, and understanding these differences will help you avoid becoming confused while using it.(((Subversion)))(((Perforce)))\"\n",
      "----------------------------------------------------------------------------------------------------\n",
      "Chunk 3: '==== Snapshots, Not Differences'\n",
      "----------------------------------------------------------------------------------------------------\n",
      "====================================================================================================\n",
      "\n",
      "Using the marker: '\\n==' - 7 chunks returned.\n",
      "Chunk 1: '[[what_is_git_section]]'\n",
      "----------------------------------------------------------------------------------------------------\n",
      "Chunk 2: \"= What is Git?\\n\\nSo, what is Git in a nutshell?\\nThis is an important section to absorb, because if you understand what Git is and the fundamentals of how it works, then using Git effectively will probably be much easier for you.\\nAs you learn Git, try to clear your mind of the things you may know about other VCSs, such as CVS, Subversion or Perforce -- doing so will help you avoid subtle confusion when using the tool.\\nEven though Git's user interface is fairly similar to these other VCSs, Git stores and thinks about information in a very different way, and understanding these differences will help you avoid becoming confused while using it.(((Subversion)))(((Perforce)))\\n\"\n",
      "----------------------------------------------------------------------------------------------------\n",
      "Chunk 3: \"== Snapshots, Not Differences\\n\\nThe major difference between Git and any other VCS (Subversion and friends included) is the way Git thinks about its data.\\nConceptually, most other systems store information as a list of file-based changes.\\nThese other systems (CVS, Subversion, Perforce, and so on) think of the information they store as a set of files and the changes made to each file over time (this is commonly described as _delta-based_ version control).\\n\\n.Storing data as changes to a base version of each file\\nimage::images/deltas.png[Storing data as changes to a base version of each file]\\n\\nGit doesn't think of or store its data this way.\\nInstead, Git thinks of its data more like a series of snapshots of a miniature filesystem.\\nWith Git, every time you commit, or save the state of your project, Git basically takes a picture of what all your files look like at that moment and stores a reference to that snapshot.\\nTo be efficient, if files have not changed, Git doesn't store the file again, just a link to the previous identical file it has already stored.\\nGit thinks about its data more like a *stream of snapshots*.\\n\\n.Storing data as snapshots of the project over time\\nimage::images/snapshots.png[Git stores data as snapshots of the project over time]\\n\\nThis is an important distinction between Git and nearly all other VCSs.\\nIt makes Git reconsider almost every aspect of version control that most other systems copied from the previous generation.\\nThis makes Git more like a mini filesystem with some incredibly powerful tools built on top of it, rather than simply a VCS.\\nWe'll explore some of the benefits you gain by thinking of your data this way when we cover Git branching in <<ch03-git-branching#ch03-git-branching>>.\\n\"\n",
      "----------------------------------------------------------------------------------------------------\n",
      "====================================================================================================\n"
     ]
    }
   ],
   "source": [
    "for marker in [\"\\n\\n\", \"\\n==\"]:\n",
    "    chunks = source_text.split(marker)\n",
    "    # Print outputs to screen\n",
    "    print(f\"\\nUsing the marker: {repr(marker)} - {len(chunks)} chunks returned.\")\n",
    "    for i in range(3):\n",
    "        print(f\"Chunk {i+1}: {repr(chunks[i])}\")\n",
    "        print('-'*100)\n",
    "    print('='*100)"
   ]
  },
  {
   "cell_type": "markdown",
   "id": "fa8cca7a-e188-4d6b-94eb-af81025dfa29",
   "metadata": {},
   "source": [
    "One noticeable issue with simple marker-based chunking is that **headings often become separate chunks**, which might not be ideal. In practice, we might use a mixed strategy by attaching short chunks, like headings, to the following chunk. This way, the heading stays connected to its relevant section. Let's explore this approach further."
   ]
  },
  {
   "cell_type": "markdown",
   "id": "98ebff1c-6d84-4135-98df-ab13302e5a87",
   "metadata": {},
   "source": [
    "### Mixing fixed and variable-sized chunking\n",
    "\n",
    "Use a variable-size chunker to divide text at paragraph markers, and then apply a fixed-size filter. If a chunk is too small, we can merge it with the next one, and if a chunk is too large, we can split it in the middle or at another marker within the chunk."
   ]
  },
  {
   "cell_type": "markdown",
   "id": "c6c64ed2-4712-40df-9024-c902bcb170a3",
   "metadata": {},
   "source": [
    "    Hybrid strategy:\n",
    "    Split by sections.\n",
    "    If too short (< 25 words), merge with next.\n",
    "    Keeps headings + content together, avoids tiny useless chunks."
   ]
  },
  {
   "cell_type": "code",
   "execution_count": 14,
   "id": "0b770d41-3a7f-451f-8ab7-a54d05054105",
   "metadata": {
    "tags": []
   },
   "outputs": [],
   "source": [
    "def mixed_chunking(source_text):\n",
    "    # Split the text by Asciidoc marker\n",
    "    chunks = source_text.split(\"\\n==\")\n",
    "\n",
    "    # Chunking logic\n",
    "    new_chunks = []\n",
    "    chunk_buffer = \"\"\n",
    "    min_length = 25\n",
    "\n",
    "    for chunk in chunks:\n",
    "        new_buffer = chunk_buffer + chunk  # Create new buffer\n",
    "        new_buffer_words = new_buffer.split(\" \")  # Split into words\n",
    "        if len(new_buffer_words) < min_length:  # Check whether buffer length is too small\n",
    "            chunk_buffer = new_buffer  # Carry over to the next chunk\n",
    "        else:\n",
    "            new_chunks.append(new_buffer)  # Add to chunks\n",
    "            chunk_buffer = \"\"\n",
    "\n",
    "    if len(chunk_buffer) > 0:\n",
    "        new_chunks.append(chunk_buffer)  # Add last chunk, if necessary\n",
    "\n",
    "    return new_chunks"
   ]
  },
  {
   "cell_type": "code",
   "execution_count": 15,
   "id": "2e399530-70aa-4136-9cec-14fbb2412619",
   "metadata": {
    "tags": []
   },
   "outputs": [
    {
     "name": "stdout",
     "output_type": "stream",
     "text": [
      "Chunk 1: \"[[what_is_git_section]]= What is Git?\\n\\nSo, what is Git in a nutshell?\\nThis is an important section to absorb, because if you understand what Git is and the fundamentals of how it works, then using Git effectively will probably be much easier for you.\\nAs you learn Git, try to clear your mind of the things you may know about other VCSs, such as CVS, Subversion or Perforce -- doing so will help you avoid subtle confusion when using the tool.\\nEven though Git's user interface is fairly similar to these other VCSs, Git stores and thinks about information in a very different way, and understanding these differences will help you avoid becoming confused while using it.(((Subversion)))(((Perforce)))\\n\"\n",
      "====================================================================================================\n",
      "Chunk 2: \"== Snapshots, Not Differences\\n\\nThe major difference between Git and any other VCS (Subversion and friends included) is the way Git thinks about its data.\\nConceptually, most other systems store information as a list of file-based changes.\\nThese other systems (CVS, Subversion, Perforce, and so on) think of the information they store as a set of files and the changes made to each file over time (this is commonly described as _delta-based_ version control).\\n\\n.Storing data as changes to a base version of each file\\nimage::images/deltas.png[Storing data as changes to a base version of each file]\\n\\nGit doesn't think of or store its data this way.\\nInstead, Git thinks of its data more like a series of snapshots of a miniature filesystem.\\nWith Git, every time you commit, or save the state of your project, Git basically takes a picture of what all your files look like at that moment and stores a reference to that snapshot.\\nTo be efficient, if files have not changed, Git doesn't store the file again, just a link to the previous identical file it has already stored.\\nGit thinks about its data more like a *stream of snapshots*.\\n\\n.Storing data as snapshots of the project over time\\nimage::images/snapshots.png[Git stores data as snapshots of the project over time]\\n\\nThis is an important distinction between Git and nearly all other VCSs.\\nIt makes Git reconsider almost every aspect of version control that most other systems copied from the previous generation.\\nThis makes Git more like a mini filesystem with some incredibly powerful tools built on top of it, rather than simply a VCS.\\nWe'll explore some of the benefits you gain by thinking of your data this way when we cover Git branching in <<ch03-git-branching#ch03-git-branching>>.\\n\"\n",
      "====================================================================================================\n",
      "Chunk 3: \"== Nearly Every Operation Is Local\\n\\nMost operations in Git need only local files and resources to operate -- generally no information is needed from another computer on your network.\\nIf you're used to a CVCS where most operations have that network latency overhead, this aspect of Git will make you think that the gods of speed have blessed Git with unworldly powers.\\nBecause you have the entire history of the project right there on your local disk, most operations seem almost instantaneous.\\n\\nFor example, to browse the history of the project, Git doesn't need to go out to the server to get the history and display it for you -- it simply reads it directly from your local database.\\nThis means you see the project history almost instantly.\\nIf you want to see the changes introduced between the current version of a file and the file a month ago, Git can look up the file a month ago and do a local difference calculation, instead of having to either ask a remote server to do it or pull an older version of the file from the remote server to do it locally.\\n\\nThis also means that there is very little you can't do if you're offline or off VPN.\\nIf you get on an airplane or a train and want to do a little work, you can commit happily (to your _local_ copy, remember?) until you get to a network connection to upload.\\nIf you go home and can't get your VPN client working properly, you can still work.\\nIn many other systems, doing so is either impossible or painful.\\nIn Perforce, for example, you can't do much when you aren't connected to the server; in Subversion and CVS, you can edit files, but you can't commit changes to your database (because your database is offline).\\nThis may not seem like a huge deal, but you may be surprised what a big difference it can make.\\n\"\n",
      "====================================================================================================\n"
     ]
    }
   ],
   "source": [
    "mixed_chunks = mixed_chunking(source_text)\n",
    "for i in range(3):\n",
    "    print(f\"Chunk {i+1}: {repr(mixed_chunks[i])}\")\n",
    "    print('='*100)"
   ]
  },
  {
   "cell_type": "markdown",
   "id": "96929f0e-4425-48cd-b1ca-40c171f38272",
   "metadata": {},
   "source": [
    "This strategy helps ensure that chunks are not too small while still using syntactic markers, like headings, to define boundaries. After examining chunking strategies on one text, let's explore how they perform on a larger collection of texts."
   ]
  },
  {
   "cell_type": "markdown",
   "id": "842cbe38-c1ba-48c5-9df9-df8058424fdc",
   "metadata": {},
   "source": [
    "## Chunking on real data\n",
    "### Apply all strategies"
   ]
  },
  {
   "cell_type": "code",
   "execution_count": 16,
   "id": "1216ee3a-d781-4483-8c45-38c262344c58",
   "metadata": {
    "tags": []
   },
   "outputs": [
    {
     "name": "stdout",
     "output_type": "stream",
     "text": [
      "{'name': 'about-version-control.asc', 'path': 'book/01-introduction/sections/about-version-control.asc', 'sha': '182fcedc00afbdd30fef442864561e6a5a104284', 'size': 4698, 'url': 'https://api.github.com/repos/progit/progit2/contents/book/01-introduction/sections/about-version-control.asc?ref=main', 'html_url': 'https://github.com/progit/progit2/blob/main/book/01-introduction/sections/about-version-control.asc', 'git_url': 'https://api.github.com/repos/progit/progit2/git/blobs/182fcedc00afbdd30fef442864561e6a5a104284', 'download_url': 'https://raw.githubusercontent.com/progit/progit2/main/book/01-introduction/sections/about-version-control.asc', 'type': 'file', '_links': {'self': 'https://api.github.com/repos/progit/progit2/contents/book/01-introduction/sections/about-version-control.asc?ref=main', 'git': 'https://api.github.com/repos/progit/progit2/git/blobs/182fcedc00afbdd30fef442864561e6a5a104284', 'html': 'https://github.com/progit/progit2/blob/main/book/01-introduction/sections/about-version-control.asc'}}\n",
      "file\n"
     ]
    }
   ],
   "source": [
    "res = requests.get('https://api.github.com/repos/progit/progit2/contents/book/01-introduction/sections').json()\n",
    "print(res[0])\n",
    "print(res[0]['type'])"
   ]
  },
  {
   "cell_type": "code",
   "execution_count": 17,
   "id": "07701d12-6c02-430f-925c-d48b9bcd150a",
   "metadata": {
    "tags": []
   },
   "outputs": [
    {
     "data": {
      "text/plain": [
       "['https:',\n",
       " '',\n",
       " 'raw.githubusercontent.com',\n",
       " 'progit',\n",
       " 'progit2',\n",
       " 'main',\n",
       " 'book',\n",
       " '01-introduction',\n",
       " 'sections',\n",
       " 'about-version-control.asc']"
      ]
     },
     "execution_count": 17,
     "metadata": {},
     "output_type": "execute_result"
    }
   ],
   "source": [
    "res[0]['download_url'].split('/')"
   ]
  },
  {
   "cell_type": "code",
   "execution_count": 18,
   "id": "ee33f1e1-ee8d-4031-94b7-6842bb931865",
   "metadata": {
    "tags": []
   },
   "outputs": [
    {
     "data": {
      "text/plain": [
       "'about-version-control.asc'"
      ]
     },
     "execution_count": 18,
     "metadata": {},
     "output_type": "execute_result"
    }
   ],
   "source": [
    "res[0]['download_url'].split('/')[-1]"
   ]
  },
  {
   "cell_type": "code",
   "execution_count": 19,
   "id": "6d52d60f-a0fd-4f2c-b9db-86bd84fff397",
   "metadata": {
    "tags": []
   },
   "outputs": [
    {
     "data": {
      "text/plain": [
       "'=== About Version Control\\n\\n(((version control)))\\nWhat is \"`version control`\", and why should you care?\\nVersion control is a system that records changes to a file or set of files over time so that you can recall specific versions later.\\nFor the examples in this book, you will use software source code as the files being version controlled, though in reality you can do this with nearly any type of file on a computer.\\n\\nIf you are a graphic or web designer and want to keep every version of an image or layout (which you would most certainly want to), a Version Control System (VCS) is a very wise thing to use.\\nIt allows you to revert selected files back to a previous state, revert the entire project back to a previous state, compare changes over time, see who last modified something that might be causing a problem, who introduced an issue and when, and more.\\nUsing a VCS also generally means that if you screw things up or lose files, you can easily recover.\\nIn addition, you get all this for very little overhead.\\n\\n==== Local Version Control Systems\\n\\n(((version control,local)))\\nMany people\\'s version-control method of choice is to copy files into another directory (perhaps a time-stamped directory, if they\\'re clever).\\nThis approach is very common because it is so simple, but it is also incredibly error prone.\\nIt is easy to forget which directory you\\'re in and accidentally write to the wrong file or copy over files you don\\'t mean to.\\n\\nTo deal with this issue, programmers long ago developed local VCSs that had a simple database that kept all the changes to files under revision control.\\n\\n.Local version control diagram\\nimage::images/local.png[Local version control diagram]\\n\\nOne of the most popular VCS tools was a system called RCS, which is still distributed with many computers today.\\nhttps://www.gnu.org/software/rcs/[RCS^] works by keeping patch sets (that is, the differences between files) in a special format on disk; it can then re-create what any file looked like at any point in time by adding up all the patches.\\n\\n==== Centralized Version Control Systems\\n\\n(((version control,centralized)))\\nThe next major issue that people encounter is that they need to collaborate with developers on other systems.\\nTo deal with this problem, Centralized Version Control Systems (CVCSs) were developed.\\nThese systems (such as CVS, Subversion, and Perforce) have a single server that contains all the versioned files, and a number of clients that check out files from that central place.(((CVS)))(((Subversion)))(((Perforce)))\\nFor many years, this has been the standard for version control.\\n\\n.Centralized version control diagram\\nimage::images/centralized.png[Centralized version control diagram]\\n\\nThis setup offers many advantages, especially over local VCSs.\\nFor example, everyone knows to a certain degree what everyone else on the project is doing.\\nAdministrators have fine-grained control over who can do what, and it\\'s far easier to administer a CVCS than it is to deal with local databases on every client.\\n\\nHowever, this setup also has some serious downsides.\\nThe most obvious is the single point of failure that the centralized server represents.\\nIf that server goes down for an hour, then during that hour nobody can collaborate at all or save versioned changes to anything they\\'re working on.\\nIf the hard disk the central database is on becomes corrupted, and proper backups haven\\'t been kept, you lose absolutely everything -- the entire history of the project except whatever single snapshots people happen to have on their local machines.\\nLocal VCSs suffer from this same problem -- whenever you have the entire history of the project in a single place, you risk losing everything.\\n\\n==== Distributed Version Control Systems\\n\\n(((version control,distributed)))\\nThis is where Distributed Version Control Systems (DVCSs) step in.\\nIn a DVCS (such as Git, Mercurial or Darcs), clients don\\'t just check out the latest snapshot of the files; rather, they fully mirror the repository, including its full history.\\nThus, if any server dies, and these systems were collaborating via that server, any of the client repositories can be copied back up to the server to restore it.\\nEvery clone is really a full backup of all the data.\\n\\n.Distributed version control diagram\\nimage::images/distributed.png[Distributed version control diagram]\\n\\nFurthermore, many of these systems deal pretty well with having several remote repositories they can work with, so you can collaborate with different groups of people in different ways simultaneously within the same project.\\nThis allows you to set up several types of workflows that aren\\'t possible in centralized systems, such as hierarchical models.\\n'"
      ]
     },
     "execution_count": 19,
     "metadata": {},
     "output_type": "execute_result"
    }
   ],
   "source": [
    "requests.get(res[0]['download_url']).text"
   ]
  },
  {
   "cell_type": "code",
   "execution_count": 20,
   "id": "796e66de-0fd5-4375-b09c-2f765d02381e",
   "metadata": {
    "tags": []
   },
   "outputs": [],
   "source": [
    "def get_book_text_objects():\n",
    "    # Source location\n",
    "    text_objs = list()\n",
    "    api_base_url = 'https://api.github.com/repos/progit/progit2/contents/book'  # Book base URL\n",
    "    chapter_urls = ['/01-introduction/sections', '/02-git-basics/sections']  # List of section URLs\n",
    "\n",
    "    # Loop through book chapters\n",
    "    for chapter_url in chapter_urls:\n",
    "        response = requests.get(api_base_url + chapter_url)  # Get the JSON data for the section files in the chapter\n",
    "\n",
    "        # Loop through inner files (sections)\n",
    "        for file_info in response.json():\n",
    "            if file_info['type'] == 'file':  # Only process files (not directories)\n",
    "                file_response = requests.get(file_info['download_url'])\n",
    "\n",
    "                # Build objects including metadata\n",
    "                chapter_title = file_info['download_url'].split('/')[-3]\n",
    "                filename = file_info['download_url'].split('/')[-1]\n",
    "                text_obj = {\n",
    "                    \"body\": file_response.text,\n",
    "                    \"chapter_title\": chapter_title,\n",
    "                    \"filename\": filename\n",
    "                }\n",
    "                text_objs.append(text_obj)\n",
    "    return text_objs"
   ]
  },
  {
   "cell_type": "code",
   "execution_count": 21,
   "id": "81a48242-32e2-4129-936f-928b7c9901d2",
   "metadata": {
    "tags": []
   },
   "outputs": [],
   "source": [
    "# This will generate a list with 14 elements, one for each chapter\n",
    "book_text_objs = get_book_text_objects()"
   ]
  },
  {
   "cell_type": "code",
   "execution_count": 22,
   "id": "5a89a8e9-a4cf-4a70-b245-47c8c2f1c699",
   "metadata": {
    "tags": []
   },
   "outputs": [
    {
     "name": "stdout",
     "output_type": "stream",
     "text": [
      "dict_keys(['body', 'chapter_title', 'filename'])\n"
     ]
    }
   ],
   "source": [
    "print(book_text_objs[0].keys())"
   ]
  },
  {
   "cell_type": "markdown",
   "id": "eae6e2b0-3153-4265-aa0f-3cc9ac7e55a3",
   "metadata": {},
   "source": [
    "### Chunking the chapters\n",
    "\n",
    "The following chunking methods will be applied to each section:\n",
    "\n",
    "- **Fixed-length chunks with 20% overlap:**\n",
    "  - Chunks with 25 words each\n",
    "  - Chunks with 100 words each\n",
    "\n",
    "- **Variable-length chunks** using paragraph markers\n",
    "\n",
    "- **Mixed-strategy chunks** using paragraph markers with a minimum chunk length of 25 words\n",
    "\n",
    "Additionally, metadata will be added to each chunk, including the filename, chapter name, and chunk number."
   ]
  },
  {
   "cell_type": "code",
   "execution_count": 23,
   "id": "47fd0b33-1208-4658-bd98-9792d7362c8d",
   "metadata": {
    "tags": []
   },
   "outputs": [],
   "source": [
    "def build_chunk_objs(book_text_obj, chunks):\n",
    "    \"\"\"\n",
    "    Constructs a list of chunk objects from a given book text object \n",
    "    and its associated chunks.\n",
    "\n",
    "    Args:\n",
    "        book_text_obj (dict): A dictionary containing metadata for the book text, \n",
    "                              including 'chapter_title' and 'filename'.\n",
    "        chunks (list): A list of chunks that represent parts of the book text.\n",
    "\n",
    "    Returns:\n",
    "        list: A list of dictionaries, each representing a chunk object \n",
    "              with 'chapter_title', 'filename', 'chunk', and 'chunk_index'.\n",
    "    \"\"\"\n",
    "    chunk_objs = list()  # Initialize an empty list to store chunk objects\n",
    "    \n",
    "    # Iterate over the chunks with an index\n",
    "    for i, c in enumerate(chunks):\n",
    "        # Create a dictionary for each chunk with its associated data\n",
    "        chunk_obj = {\n",
    "            \"chapter_title\": book_text_obj[\"chapter_title\"],  # Chapter title from the book text object\n",
    "            \"filename\": book_text_obj[\"filename\"],            # Filename from the book text object\n",
    "            \"chunk\": c,                                       # The actual chunk of text\n",
    "            \"chunk_index\": i                                  # The index of the chunk in the list\n",
    "        }\n",
    "        # Append the constructed chunk object to the list\n",
    "        chunk_objs.append(chunk_obj)\n",
    "\n",
    "    # Return the list of chunk objects\n",
    "    return chunk_objs"
   ]
  },
  {
   "cell_type": "markdown",
   "id": "a4c64c2b-d342-45f1-838d-4014c56f6811",
   "metadata": {},
   "source": [
    "    Get multiple sets of chunks - according to chunking strategy"
   ]
  },
  {
   "cell_type": "markdown",
   "id": "44cf3955-07d0-40be-acb9-75d900b5d0c5",
   "metadata": {},
   "source": [
    "    fixed_size_25 → Breaks text into fixed-size chunks of ~25 tokens (with 20% overlap).\n",
    "\n",
    "    fixed_size_100 → Same as above, but ~100 tokens per chunk.\n",
    "\n",
    "    para_chunks → Splits text by paragraph boundaries.\n",
    "\n",
    "    para_chunks_min_25 → A mixed strategy that ensures paragraph chunks but guarantees minimum length (~25 tokens)."
   ]
  },
  {
   "cell_type": "markdown",
   "id": "3348a4f8-8ff4-409f-a7e7-bb2b120f9c5a",
   "metadata": {},
   "source": [
    "    The result (chunk_obj_sets) looks like:\n",
    "\n",
    "    {\n",
    "      \"fixed_size_25\": [chunk_obj1, chunk_obj2, ...],\n",
    "      \"fixed_size_100\": [...],\n",
    "      \"para_chunks\": [...],\n",
    "      \"para_chunks_min_25\": [...]\n",
    "    }"
   ]
  },
  {
   "cell_type": "code",
   "execution_count": 24,
   "id": "9e056c1d-be28-4829-bc5c-620e3558f822",
   "metadata": {
    "tags": []
   },
   "outputs": [],
   "source": [
    "# Keys will be the strategy name (e.g., \"fixed_size_25\")\n",
    "# Values will be lists of chunk objects produced by that strategy.\n",
    "chunk_obj_sets = dict()\n",
    "\n",
    "for book_text_obj in book_text_objs:\n",
    "    text = book_text_obj[\"body\"]  # Get the object's text body\n",
    "\n",
    "    # Loop through chunking strategies:\n",
    "    for strategy_name, chunks in [\n",
    "        [\"fixed_size_25\", get_chunks_fixed_size_with_overlap(text, 25, 0.2)],\n",
    "        [\"fixed_size_100\", get_chunks_fixed_size_with_overlap(text, 100, 0.2)],\n",
    "        [\"para_chunks\", get_chunks_by_paragraph(text)],\n",
    "        [\"para_chunks_min_25\", mixed_chunking(text)]\n",
    "    ]:\n",
    "        chunk_objs = build_chunk_objs(book_text_obj, chunks)\n",
    "\n",
    "        if strategy_name not in chunk_obj_sets.keys():\n",
    "            chunk_obj_sets[strategy_name] = list()\n",
    "\n",
    "        chunk_obj_sets[strategy_name] += chunk_objs"
   ]
  },
  {
   "cell_type": "code",
   "execution_count": 25,
   "id": "b6b7a3d0-667a-4af1-ab13-785db626f623",
   "metadata": {
    "tags": []
   },
   "outputs": [
    {
     "name": "stdout",
     "output_type": "stream",
     "text": [
      "dict_keys(['fixed_size_25', 'fixed_size_100', 'para_chunks', 'para_chunks_min_25'])\n"
     ]
    }
   ],
   "source": [
    "print(chunk_obj_sets.keys())"
   ]
  },
  {
   "cell_type": "code",
   "execution_count": 26,
   "id": "669438c2-038a-497f-a7a9-03a871d6fbd1",
   "metadata": {
    "tags": []
   },
   "outputs": [
    {
     "data": {
      "text/plain": [
       "[{'chapter_title': '01-introduction',\n",
       "  'filename': 'about-version-control.asc',\n",
       "  'chunk': '=== About Version Control (((version control))) What is \"`version control`\", and why should you care? Version control is a system that records changes to a',\n",
       "  'chunk_index': 0},\n",
       " {'chapter_title': '01-introduction',\n",
       "  'filename': 'about-version-control.asc',\n",
       "  'chunk': 'that records changes to a file or set of files over time so that you can recall specific versions later. For the examples in this book, you will use software',\n",
       "  'chunk_index': 1}]"
      ]
     },
     "execution_count": 26,
     "metadata": {},
     "output_type": "execute_result"
    }
   ],
   "source": [
    "chunk_type = 'fixed_size_25'\n",
    "chunk_obj_sets[chunk_type][0:2]"
   ]
  },
  {
   "cell_type": "code",
   "execution_count": 27,
   "id": "deb1ac8c-ed03-4598-804a-05b68159ca0d",
   "metadata": {
    "tags": []
   },
   "outputs": [
    {
     "data": {
      "text/plain": [
       "[{'chapter_title': '01-introduction',\n",
       "  'filename': 'about-version-control.asc',\n",
       "  'chunk': '=== About Version Control\\n\\n(((version control)))\\nWhat is \"`version control`\", and why should you care?\\nVersion control is a system that records changes to a file or set of files over time so that you can recall specific versions later.\\nFor the examples in this book, you will use software source code as the files being version controlled, though in reality you can do this with nearly any type of file on a computer.\\n\\nIf you are a graphic or web designer and want to keep every version of an image or layout (which you would most certainly want to), a Version Control System (VCS) is a very wise thing to use.\\nIt allows you to revert selected files back to a previous state, revert the entire project back to a previous state, compare changes over time, see who last modified something that might be causing a problem, who introduced an issue and when, and more.\\nUsing a VCS also generally means that if you screw things up or lose files, you can easily recover.\\nIn addition, you get all this for very little overhead.\\n',\n",
       "  'chunk_index': 0},\n",
       " {'chapter_title': '01-introduction',\n",
       "  'filename': 'about-version-control.asc',\n",
       "  'chunk': \"== Local Version Control Systems\\n\\n(((version control,local)))\\nMany people's version-control method of choice is to copy files into another directory (perhaps a time-stamped directory, if they're clever).\\nThis approach is very common because it is so simple, but it is also incredibly error prone.\\nIt is easy to forget which directory you're in and accidentally write to the wrong file or copy over files you don't mean to.\\n\\nTo deal with this issue, programmers long ago developed local VCSs that had a simple database that kept all the changes to files under revision control.\\n\\n.Local version control diagram\\nimage::images/local.png[Local version control diagram]\\n\\nOne of the most popular VCS tools was a system called RCS, which is still distributed with many computers today.\\nhttps://www.gnu.org/software/rcs/[RCS^] works by keeping patch sets (that is, the differences between files) in a special format on disk; it can then re-create what any file looked like at any point in time by adding up all the patches.\\n\",\n",
       "  'chunk_index': 1}]"
      ]
     },
     "execution_count": 27,
     "metadata": {},
     "output_type": "execute_result"
    }
   ],
   "source": [
    "chunk_type = 'para_chunks_min_25'\n",
    "chunk_obj_sets[chunk_type][0:2]"
   ]
  },
  {
   "cell_type": "markdown",
   "id": "4672de46-f128-484a-ae2c-8077bf39f31e",
   "metadata": {},
   "source": [
    "### Loading Chunks into a Vector Database\n",
    "\n",
    "Loading chunks into a vector database. Below, we will work with a pre-loaded collection to save time."
   ]
  },
  {
   "cell_type": "code",
   "execution_count": 28,
   "id": "4273c9ab-ad2b-4685-8bec-e662398ffb6a",
   "metadata": {
    "tags": []
   },
   "outputs": [],
   "source": [
    "import subprocess\n",
    "from contextlib import contextmanager\n",
    "\n",
    "@contextmanager\n",
    "def suppress_subprocess_output():\n",
    "    \"\"\"\n",
    "    Context manager that suppresses the standard output and error \n",
    "    of any subprocess.Popen calls within this context.\n",
    "    \"\"\"\n",
    "    # Store the original Popen\n",
    "    original_popen = subprocess.Popen\n",
    "\n",
    "    def patched_popen(*args, **kwargs):\n",
    "        # Redirect the stdout and stderr to subprocess.DEVNULL\n",
    "        kwargs['stdout'] = subprocess.DEVNULL\n",
    "        kwargs['stderr'] = subprocess.DEVNULL\n",
    "        return original_popen(*args, **kwargs)\n",
    "\n",
    "    try:\n",
    "        # Apply the patch by replacing subprocess.Popen with patched_popen\n",
    "        subprocess.Popen = patched_popen\n",
    "        # Yield control back to the context\n",
    "        yield\n",
    "    finally:\n",
    "        # Ensure that the original Popen method is restored\n",
    "        subprocess.Popen = original_popen"
   ]
  },
  {
   "cell_type": "code",
   "execution_count": null,
   "id": "c8549492-0973-4b0c-bc92-5134c32c2f37",
   "metadata": {},
   "outputs": [],
   "source": []
  },
  {
   "cell_type": "code",
   "execution_count": null,
   "id": "175443cf-ad42-4098-b4e9-49533cf7b0fe",
   "metadata": {},
   "outputs": [],
   "source": []
  },
  {
   "cell_type": "code",
   "execution_count": null,
   "id": "0d68aa0e-7fcc-42d7-b556-996beec050a5",
   "metadata": {},
   "outputs": [],
   "source": []
  },
  {
   "cell_type": "code",
   "execution_count": 29,
   "id": "7670add7-d255-4914-8a58-c1c9a7a79234",
   "metadata": {
    "tags": []
   },
   "outputs": [],
   "source": [
    "from flask import Flask\n",
    "import threading\n",
    "import json\n",
    "import numpy as np\n",
    "import threading\n",
    "import logging\n",
    "\n",
    "app = Flask(__name__)"
   ]
  },
  {
   "cell_type": "code",
   "execution_count": 30,
   "id": "2683f656-67e6-4c09-8cfa-368c79c01a3c",
   "metadata": {
    "tags": []
   },
   "outputs": [
    {
     "name": "stdout",
     "output_type": "stream",
     "text": [
      " * Serving Flask app '__main__'\n",
      " * Debug mode: off\n"
     ]
    },
    {
     "name": "stderr",
     "output_type": "stream",
     "text": [
      "Address already in use\n",
      "Port 5000 is in use by another program. Either identify and stop that program, or start the server with a different port.\n"
     ]
    }
   ],
   "source": [
    "app.logger.disabled = True\n",
    "# Get the Flask app's logger\n",
    "log = logging.getLogger('werkzeug')\n",
    "# Set logging level (ERROR or CRITICAL suppresses routing logs)\n",
    "log.setLevel(logging.ERROR)\n",
    "def run_app():\n",
    "    app.run(host='0.0.0.0', port=5000, debug = False)\n",
    "\n",
    "flask_thread = threading.Thread(target=run_app)\n",
    "flask_thread.start()"
   ]
  },
  {
   "cell_type": "code",
   "execution_count": 31,
   "id": "607aeb81-d43a-4adf-a64d-9a9c50864581",
   "metadata": {
    "tags": []
   },
   "outputs": [],
   "source": [
    "# Loading the client\n",
    "with suppress_subprocess_output():\n",
    "    try:\n",
    "        client = weaviate.connect_to_embedded(\n",
    "            persistence_data_path=\"/home/jovyan/data/collections/m3/chunking/\",\n",
    "            environment_variables={\n",
    "                \"ENABLE_API_BASED_MODULES\": \"true\", # Enable API based modules \n",
    "                \"ENABLE_MODULES\": 'text2vec-transformers', # We will be using a transformer model \n",
    "                \"TRANSFORMERS_INFERENCE_API\":\"http://127.0.0.1:5000/\", # The endpoint the weaviate API will be using to vectorize\n",
    "            }\n",
    "        )\n",
    "    except Exception as e:\n",
    "        ports = extract_ports(str(e))\n",
    "        client = weaviate.connect_to_local(port=8079, grpc_port=50050)"
   ]
  },
  {
   "cell_type": "code",
   "execution_count": null,
   "id": "8714c52b-2152-48d1-9472-04962116c6a1",
   "metadata": {},
   "outputs": [],
   "source": []
  },
  {
   "cell_type": "code",
   "execution_count": null,
   "id": "9de51fa9-77b5-456b-9cbf-3b778ba2f26e",
   "metadata": {},
   "outputs": [],
   "source": []
  },
  {
   "cell_type": "code",
   "execution_count": 32,
   "id": "73fe2b2e-a973-49da-8ae6-d250013315b9",
   "metadata": {
    "tags": []
   },
   "outputs": [
    {
     "data": {
      "text/plain": [
       "True"
      ]
     },
     "execution_count": 32,
     "metadata": {},
     "output_type": "execute_result"
    }
   ],
   "source": [
    "client.collections.exists(\"chunking_example\")"
   ]
  },
  {
   "cell_type": "code",
   "execution_count": 33,
   "id": "d35f4dd6-316c-4275-b207-d4b0046b97c9",
   "metadata": {
    "tags": []
   },
   "outputs": [],
   "source": [
    "# Creating the collection\n",
    "if not client.collections.exists(\"chunking_example\"):\n",
    "    collection = client.collections.create(\n",
    "            name='chunking_example',\n",
    "\n",
    "            vectorizer_config=[Configure.NamedVectors.text2vec_transformers(\n",
    "                    name=\"vector\", # This is the name you will need to access the vectors of the objects in your collection\n",
    "                    #source_properties=['chunk'], # which properties should be used to generate a vector, they will be appended to each other when vectorizing\n",
    "                    vectorize_collection_name = False, # This tells the client to not vectorize the collection name. \n",
    "                                                       # If True, it will be appended at the beginning of the text to be vectorized\n",
    "                    inference_url=\"http://127.0.0.1:5000\", # Since we are using an API based vectorizer, you need to pass the URL used to make the calls \n",
    "                                                           # This was setup in our Flask application\n",
    "                )],\n",
    "\n",
    "            properties=[  # Define properties\n",
    "            Property(name=\"chunk\",data_type= DataType.TEXT),\n",
    "            Property(name=\"chapter_title\", data_type=DataType.TEXT),\n",
    "            Property(name=\"filename\",data_type=DataType.TEXT),\n",
    "            Property(name=\"chunking_strategy\",data_type=DataType.TEXT, tokenization = Tokenization.FIELD), # tokenization = Tokenization.FIELD means that the entire word will be treated as a token,\n",
    "            Property(name=\"chunk_index\",data_type=DataType.INT),\n",
    "\n",
    "        ]\n",
    "        )\n",
    "else:\n",
    "    collection = client.collections.get(\"chunking_example\")"
   ]
  },
  {
   "cell_type": "code",
   "execution_count": 34,
   "id": "a318d8c2-c6a2-4881-b8e6-812ec5122749",
   "metadata": {
    "tags": []
   },
   "outputs": [],
   "source": [
    "# Adding elements in the collection - this insertion should NOT run as the collection is already vectorized for you. \n",
    "if len(collection) == 0:\n",
    "    with collection.batch.fixed_size(batch_size=1, concurrent_requests=1) as batch:\n",
    "        for chunking_strategy, chunk_objects in tqdm.tqdm(chunk_obj_sets.items()):\n",
    "            for chunk_obj in chunk_objects:\n",
    "                chunk_obj[\"chunking_strategy\"] = chunking_strategy\n",
    "                batch.add_object(\n",
    "                    properties=chunk_obj,\n",
    "                    uuid=generate_uuid5(chunk_obj)\n",
    "                )"
   ]
  },
  {
   "cell_type": "code",
   "execution_count": 37,
   "id": "7a9d19a5-41f2-4552-a5dd-9a54341cf349",
   "metadata": {
    "tags": []
   },
   "outputs": [
    {
     "name": "stdout",
     "output_type": "stream",
     "text": [
      "Total count: 1487\n",
      "Object count for fixed_size_25: 672\n",
      "Object count for fixed_size_100: 173\n",
      "Object count for para_chunks: 549\n",
      "Object count for para_chunks_min_25: 93\n"
     ]
    }
   ],
   "source": [
    "print(f\"Total count: {collection.aggregate.over_all().total_count}\")\n",
    "for chunking_strategy in chunk_obj_sets.keys():\n",
    "    where_filter = Filter.by_property('chunking_strategy').equal(chunking_strategy) # Filter by chunking strategy\n",
    "    count = collection.aggregate.over_all(filters = where_filter).total_count # Aggregate with filtering\n",
    "    print(f\"Object count for {chunking_strategy}: {count}\")"
   ]
  },
  {
   "cell_type": "markdown",
   "id": "992bd721-9551-41ce-94c6-13f5870f1350",
   "metadata": {},
   "source": [
    "## Searching \n",
    "\n",
    "Semantic searching with different chunk sizes to visualize the impacts of the sizes in information retrieval."
   ]
  },
  {
   "cell_type": "code",
   "execution_count": 38,
   "id": "0e92e362-2f1a-4261-8426-9447704fe697",
   "metadata": {
    "tags": []
   },
   "outputs": [
    {
     "name": "stdout",
     "output_type": "stream",
     "text": [
      "RETRIEVED OBJECTS FOR CHUNKING STRATEGY FIXED_SIZE_25:\n",
      "\n",
      "===== Object 0 =====\n",
      "=== A Short History of Git As with many great things in life, Git began with a bit of creative destruction and fiery controversy. The\n",
      "----------------------------------------------------------------------------------------------------\n",
      "===== Object 1 =====\n",
      "kernel efficiently (speed and data size) Since its birth in 2005, Git has evolved and matured to be easy to use and yet retain these initial qualities. It's amazingly fast,\n",
      "----------------------------------------------------------------------------------------------------\n",
      "====================================================================================================\n",
      "RETRIEVED OBJECTS FOR CHUNKING STRATEGY FIXED_SIZE_100:\n",
      "\n",
      "===== Object 0 =====\n",
      "=== A Short History of Git As with many great things in life, Git began with a bit of creative destruction and fiery controversy. The Linux kernel is an open source software project of fairly large scope.(((Linux))) During the early years of the Linux kernel maintenance (1991–2002), changes to the software were passed around as patches and archived files. In 2002, the Linux kernel project began using a proprietary DVCS called BitKeeper.(((BitKeeper))) In 2005, the relationship between the community that developed the Linux kernel and the commercial company that developed BitKeeper broke down, and the tool's free-of-charge status was revoked.\n",
      "----------------------------------------------------------------------------------------------------\n",
      "===== Object 1 =====\n",
      "2005, Git has evolved and matured to be easy to use and yet retain these initial qualities. It's amazingly fast, it's very efficient with large projects, and it has an incredible branching system for non-linear development (see <<ch03-git-branching#ch03-git-branching>>).\n",
      "----------------------------------------------------------------------------------------------------\n",
      "====================================================================================================\n",
      "RETRIEVED OBJECTS FOR CHUNKING STRATEGY PARA_CHUNKS:\n",
      "\n",
      "===== Object 0 =====\n",
      "Since its birth in 2005, Git has evolved and matured to be easy to use and yet retain these initial qualities.\n",
      "It's amazingly fast, it's very efficient with large projects, and it has an incredible branching system for non-linear development (see <<ch03-git-branching#ch03-git-branching>>).\n",
      "\n",
      "----------------------------------------------------------------------------------------------------\n",
      "===== Object 1 =====\n",
      "=== A Short History of Git\n",
      "----------------------------------------------------------------------------------------------------\n",
      "====================================================================================================\n",
      "RETRIEVED OBJECTS FOR CHUNKING STRATEGY PARA_CHUNKS_MIN_25:\n",
      "\n",
      "===== Object 0 =====\n",
      "=== A Short History of Git\n",
      "\n",
      "As with many great things in life, Git began with a bit of creative destruction and fiery controversy.\n",
      "\n",
      "The Linux kernel is an open source software project of fairly large scope.(((Linux)))\n",
      "During the early years of the Linux kernel maintenance (1991–2002), changes to the software were passed around as patches and archived files.\n",
      "In 2002, the Linux kernel project began using a proprietary DVCS called BitKeeper.(((BitKeeper)))\n",
      "\n",
      "In 2005, the relationship between the community that developed the Linux kernel and the commercial company that developed BitKeeper broke down, and the tool's free-of-charge status was revoked.\n",
      "This prompted the Linux development community (and in particular Linus Torvalds, the creator of Linux) to develop their own tool based on some of the lessons they learned while using BitKeeper.(((Linus Torvalds)))\n",
      "Some of the goals of the new system were as follows:\n",
      "\n",
      "* Speed\n",
      "* Simple design\n",
      "* Strong support for non-linear development (thousands of parallel branches)\n",
      "* Fully distributed\n",
      "* Able to handle large projects like the Linux kernel efficiently (speed and data size)\n",
      "\n",
      "Since its birth in 2005, Git has evolved and matured to be easy to use and yet retain these initial qualities.\n",
      "It's amazingly fast, it's very efficient with large projects, and it has an incredible branching system for non-linear development (see <<ch03-git-branching#ch03-git-branching>>).\n",
      "\n",
      "----------------------------------------------------------------------------------------------------\n",
      "===== Object 1 =====\n",
      "[[_viewing_history]]= Viewing the Commit History\n",
      "\n",
      "After you have created several commits, or if you have cloned a repository with an existing commit history, you'll probably want to look back to see what has happened.\n",
      "The most basic and powerful tool to do this is the `git log` command.\n",
      "\n",
      "These examples use a very simple project called \"`simplegit`\".\n",
      "To get the project, run:\n",
      "\n",
      "[source,console]\n",
      "----\n",
      "$ git clone https://github.com/schacon/simplegit-progit\n",
      "----\n",
      "\n",
      "When you run `git log` in this project, you should get output that looks something like this:(((git commands, log)))\n",
      "\n",
      "[source,console]\n",
      "----\n",
      "$ git log\n",
      "commit ca82a6dff817ec66f44342007202690a93763949\n",
      "Author: Scott Chacon <schacon@gee-mail.com>\n",
      "Date:   Mon Mar 17 21:52:11 2008 -0700\n",
      "\n",
      "    Change version number\n",
      "\n",
      "commit 085bb3bcb608e1e8451d4b2432f8ecbe6306e7e7\n",
      "Author: Scott Chacon <schacon@gee-mail.com>\n",
      "Date:   Sat Mar 15 16:40:33 2008 -0700\n",
      "\n",
      "    Remove unnecessary test\n",
      "\n",
      "commit a11bef06a3f659402fe7563abf99ad00de2209e6\n",
      "Author: Scott Chacon <schacon@gee-mail.com>\n",
      "Date:   Sat Mar 15 10:31:28 2008 -0700\n",
      "\n",
      "    Initial commit\n",
      "----\n",
      "\n",
      "By default, with no arguments, `git log` lists the commits made in that repository in reverse chronological order; that is, the most recent commits show up first.\n",
      "As you can see, this command lists each commit with its SHA-1 checksum, the author's name and email, the date written, and the commit message.\n",
      "\n",
      "A huge number and variety of options to the `git log` command are available to show you exactly what you're looking for.\n",
      "Here, we'll show you some of the most popular.\n",
      "\n",
      "One of the more helpful options is `-p` or `--patch`, which shows the difference (the _patch_ output) introduced in each commit.\n",
      "You can also limit the number of log entries displayed, such as using `-2` to show only the last two entries.\n",
      "\n",
      "[source,console]\n",
      "----\n",
      "$ git log -p -2\n",
      "commit ca82a6dff817ec66f44342007202690a93763949\n",
      "Author: Scott Chacon <schacon@gee-mail.com>\n",
      "Date:   Mon Mar 17 21:52:11 2008 -0700\n",
      "\n",
      "    Change version number\n",
      "\n",
      "diff --git a/Rakefile b/Rakefile\n",
      "index a874b73..8f94139 100644\n",
      "--- a/Rakefile\n",
      "+++ b/Rakefile\n",
      "@@ -5,7 +5,7 @@ require 'rake/gempackagetask'\n",
      " spec = Gem::Specification.new do |s|\n",
      "     s.platform  =   Gem::Platform::RUBY\n",
      "     s.name      =   \"simplegit\"\n",
      "-    s.version   =   \"0.1.0\"\n",
      "+    s.version   =   \"0.1.1\"\n",
      "     s.author    =   \"Scott Chacon\"\n",
      "     s.email     =   \"schacon@gee-mail.com\"\n",
      "     s.summary   =   \"A simple gem for using Git in Ruby code.\"\n",
      "\n",
      "commit 085bb3bcb608e1e8451d4b2432f8ecbe6306e7e7\n",
      "Author: Scott Chacon <schacon@gee-mail.com>\n",
      "Date:   Sat Mar 15 16:40:33 2008 -0700\n",
      "\n",
      "    Remove unnecessary test\n",
      "\n",
      "diff --git a/lib/simplegit.rb b/lib/simplegit.rb\n",
      "index a0a60ae..47c6340 100644\n",
      "--- a/lib/simplegit.rb\n",
      "+++ b/lib/simplegit.rb\n",
      "@@ -18,8 +18,3 @@ class SimpleGit\n",
      "     end\n",
      "\n",
      " end\n",
      "-\n",
      "-if $0 == __FILE__\n",
      "-  git = SimpleGit.new\n",
      "-  puts git.show\n",
      "-end\n",
      "----\n",
      "\n",
      "This option displays the same information but with a diff directly following each entry.\n",
      "This is very helpful for code review or to quickly browse what happened during a series of commits that a collaborator has added.\n",
      "You can also use a series of summarizing options with `git log`.\n",
      "For example, if you want to see some abbreviated stats for each commit, you can use the `--stat` option:\n",
      "\n",
      "[source,console]\n",
      "----\n",
      "$ git log --stat\n",
      "commit ca82a6dff817ec66f44342007202690a93763949\n",
      "Author: Scott Chacon <schacon@gee-mail.com>\n",
      "Date:   Mon Mar 17 21:52:11 2008 -0700\n",
      "\n",
      "    Change version number\n",
      "\n",
      " Rakefile | 2 +-\n",
      " 1 file changed, 1 insertion(+), 1 deletion(-)\n",
      "\n",
      "commit 085bb3bcb608e1e8451d4b2432f8ecbe6306e7e7\n",
      "Author: Scott Chacon <schacon@gee-mail.com>\n",
      "Date:   Sat Mar 15 16:40:33 2008 -0700\n",
      "\n",
      "    Remove unnecessary test\n",
      "\n",
      " lib/simplegit.rb | 5 -----\n",
      " 1 file changed, 5 deletions(-)\n",
      "\n",
      "commit a11bef06a3f659402fe7563abf99ad00de2209e6\n",
      "Author: Scott Chacon <schacon@gee-mail.com>\n",
      "Date:   Sat Mar 15 10:31:28 2008 -0700\n",
      "\n",
      "    Initial commit\n",
      "\n",
      " README           |  6 ++++++\n",
      " Rakefile         | 23 +++++++++++++++++++++++\n",
      " lib/simplegit.rb | 25 +++++++++++++++++++++++++\n",
      " 3 files changed, 54 insertions(+)\n",
      "----\n",
      "\n",
      "As you can see, the `--stat` option prints below each commit entry a list of modified files, how many files were changed, and how many lines in those files were added and removed.\n",
      "It also puts a summary of the information at the end.\n",
      "\n",
      "Another really useful option is `--pretty`.\n",
      "This option changes the log output to formats other than the default.\n",
      "A few prebuilt option values are available for you to use.\n",
      "The `oneline` value for this option prints each commit on a single line, which is useful if you're looking at a lot of commits.\n",
      "In addition, the `short`, `full`, and `fuller` values show the output in roughly the same format but with less or more information, respectively:\n",
      "\n",
      "[source,console]\n",
      "----\n",
      "$ git log --pretty=oneline\n",
      "ca82a6dff817ec66f44342007202690a93763949 Change version number\n",
      "085bb3bcb608e1e8451d4b2432f8ecbe6306e7e7 Remove unnecessary test\n",
      "a11bef06a3f659402fe7563abf99ad00de2209e6 Initial commit\n",
      "----\n",
      "\n",
      "The most interesting option value is `format`, which allows you to specify your own log output format.\n",
      "This is especially useful when you're generating output for machine parsing -- because you specify the format explicitly, you know it won't change with updates to Git:(((log formatting)))\n",
      "\n",
      "[source,console]\n",
      "----\n",
      "$ git log --pretty=format:\"%h - %an, %ar : %s\"\n",
      "ca82a6d - Scott Chacon, 6 years ago : Change version number\n",
      "085bb3b - Scott Chacon, 6 years ago : Remove unnecessary test\n",
      "a11bef0 - Scott Chacon, 6 years ago : Initial commit\n",
      "----\n",
      "\n",
      "<<pretty_format>> lists some of the more useful specifiers that `format` takes.\n",
      "\n",
      "[[pretty_format]]\n",
      ".Useful specifiers for `git log --pretty=format`\n",
      "[cols=\"1,4\",options=\"header\"]\n",
      "|================================\n",
      "| Specifier | Description of Output\n",
      "| `%H`      | Commit hash\n",
      "| `%h`      | Abbreviated commit hash\n",
      "| `%T`      | Tree hash\n",
      "| `%t`      | Abbreviated tree hash\n",
      "| `%P`      | Parent hashes\n",
      "| `%p`      | Abbreviated parent hashes\n",
      "| `%an`     | Author name\n",
      "| `%ae`     | Author email\n",
      "| `%ad`     | Author date (format respects the `--date=option`)\n",
      "| `%ar`     | Author date, relative\n",
      "| `%cn`     | Committer name\n",
      "| `%ce`     | Committer email\n",
      "| `%cd`     | Committer date\n",
      "| `%cr`     | Committer date, relative\n",
      "| `%s`      | Subject\n",
      "|================================\n",
      "\n",
      "You may be wondering what the difference is between _author_ and _committer_.\n",
      "The author is the person who originally wrote the work, whereas the committer is the person who last applied the work.\n",
      "So, if you send in a patch to a project and one of the core members applies the patch, both of you get credit -- you as the author, and the core member as the committer.\n",
      "We'll cover this distinction a bit more in <<ch05-distributed-git#ch05-distributed-git>>.\n",
      "\n",
      "The `oneline` and `format` option values are particularly useful with another `log` option called `--graph`.\n",
      "This option adds a nice little ASCII graph showing your branch and merge history:\n",
      "\n",
      "[source,console]\n",
      "----\n",
      "$ git log --pretty=format:\"%h %s\" --graph\n",
      "* 2d3acf9 Ignore errors from SIGCHLD on trap\n",
      "*  5e3ee11 Merge branch 'master' of https://github.com/dustin/grit.git\n",
      "|\\\n",
      "| * 420eac9 Add method for getting the current branch\n",
      "* | 30e367c Timeout code and tests\n",
      "* | 5a09431 Add timeout protection to grit\n",
      "* | e1193f8 Support for heads with slashes in them\n",
      "|/\n",
      "* d6016bc Require time for xmlschema\n",
      "*  11d191e Merge branch 'defunkt' into local\n",
      "----\n",
      "\n",
      "This type of output will become more interesting as we go through branching and merging in the next chapter.\n",
      "\n",
      "Those are only some simple output-formatting options to `git log` -- there are many more.\n",
      "<<log_options>> lists the options we've covered so far, as well as some other common formatting options that may be useful, along with how they change the output of the `log` command.\n",
      "\n",
      "[[log_options]]\n",
      ".Common options to `git log`\n",
      "[cols=\"1,4\",options=\"header\"]\n",
      "|================================\n",
      "| Option            | Description\n",
      "| `-p`              | Show the patch introduced with each commit.\n",
      "| `--stat`          | Show statistics for files modified in each commit.\n",
      "| `--shortstat`     | Display only the changed/insertions/deletions line from the `--stat` command.\n",
      "| `--name-only`     | Show the list of files modified after the commit information.\n",
      "| `--name-status`   | Show the list of files affected with added/modified/deleted information as well.\n",
      "| `--abbrev-commit` | Show only the first few characters of the SHA-1 checksum instead of all 40.\n",
      "| `--relative-date` | Display the date in a relative format (for example, \"`2 weeks ago`\") instead of using the full date format.\n",
      "| `--graph`         | Display an ASCII graph of the branch and merge history beside the log output.\n",
      "| `--pretty`        | Show commits in an alternate format. Option values include `oneline`, `short`, `full`, `fuller`, and `format` (where you specify your own format).\n",
      "| `--oneline`       | Shorthand for `--pretty=oneline --abbrev-commit` used together.\n",
      "|================================\n",
      "\n",
      "----------------------------------------------------------------------------------------------------\n",
      "====================================================================================================\n"
     ]
    }
   ],
   "source": [
    "search_string = \"history of git\" \n",
    "\n",
    "for chunking_strategy in chunk_obj_sets.keys():\n",
    "    where_filter = Filter.by_property('chunking_strategy').equal(chunking_strategy)\n",
    "    response = collection.query.near_text(search_string, filters = where_filter, limit = 2)\n",
    "    print(f\"RETRIEVED OBJECTS FOR CHUNKING STRATEGY {chunking_strategy.upper()}:\\n\")\n",
    "    for i, obj in enumerate(response.objects):\n",
    "        print(f\"===== Object {i} =====\")\n",
    "        print(f\"{obj.properties['chunk']}\")\n",
    "        print('-'*100)\n",
    "    print('='*100)"
   ]
  },
  {
   "cell_type": "markdown",
   "id": "ee9705e2-8842-4340-9f47-03088f491f8c",
   "metadata": {},
   "source": [
    "In this example, the query is a broad one focused on the \"history of git.\" The results show that longer chunks tend to perform better. Upon examination, while the 25-word chunks might closely match the query in terms of semantic similarity, they lack sufficient context to significantly enhance the reader's understanding of the topic. Conversely, the paragraph chunks retrieved—particularly those with a minimum length of 25 words—provide comprehensive information that effectively educates the reader about the history of Git."
   ]
  },
  {
   "cell_type": "code",
   "execution_count": 39,
   "id": "86f223b7-225e-4936-b045-3dbcd32eae14",
   "metadata": {
    "tags": []
   },
   "outputs": [
    {
     "name": "stdout",
     "output_type": "stream",
     "text": [
      "RETRIEVED OBJECTS FOR CHUNKING STRATEGY FIXED_SIZE_25:\n",
      "\n",
      "===== Object 0 =====\n",
      "remote))) To add a new remote Git repository as a shortname you can reference easily, run `git remote add <shortname> <url>`: [source,console] ---- $ git remote origin $ git remote\n",
      "----------------------------------------------------------------------------------------------------\n",
      "===== Object 1 =====\n",
      "manage your remote repositories. Remote repositories are versions of your project that are hosted on the Internet or network somewhere. You can have several of them, each of which generally\n",
      "----------------------------------------------------------------------------------------------------\n",
      "====================================================================================================\n",
      "RETRIEVED OBJECTS FOR CHUNKING STRATEGY FIXED_SIZE_100:\n",
      "\n",
      "===== Object 0 =====\n",
      "adds the `origin` remote for you. Here's how to add a new remote explicitly.(((git commands, remote))) To add a new remote Git repository as a shortname you can reference easily, run `git remote add <shortname> <url>`: [source,console] ---- $ git remote origin $ git remote add pb https://github.com/paulboone/ticgit $ git remote -v origin https://github.com/schacon/ticgit (fetch) origin https://github.com/schacon/ticgit (push) pb https://github.com/paulboone/ticgit (fetch) pb https://github.com/paulboone/ticgit (push) ---- Now you can use the string `pb` on the command line instead of the whole URL. For example, if you want to fetch all the information that Paul has but that you don't yet have in your repository, you can run `git fetch pb`: [source,console] ---- $ git fetch pb remote: Counting objects: 43, done.\n",
      "----------------------------------------------------------------------------------------------------\n",
      "===== Object 1 =====\n",
      "Managing remote repositories includes knowing how to add remote repositories, remove remotes that are no longer valid, manage various remote branches and define them as being tracked or not, and more. In this section, we'll cover some of these remote-management skills. [NOTE] .Remote repositories can be on your local machine. ==== It is entirely possible that you can be working with a \"`remote`\" repository that is, in fact, on the same host you are. The word \"`remote`\" does not necessarily imply that the repository is somewhere else on the network or Internet, only that it is elsewhere. Working with such a remote repository would still involve all the standard pushing, pulling and fetching operations as with any other remote. ====\n",
      "----------------------------------------------------------------------------------------------------\n",
      "====================================================================================================\n",
      "RETRIEVED OBJECTS FOR CHUNKING STRATEGY PARA_CHUNKS:\n",
      "\n",
      "===== Object 0 =====\n",
      "We've mentioned and given some demonstrations of how the `git clone` command implicitly adds the `origin` remote for you.\n",
      "Here's how to add a new remote explicitly.(((git commands, remote)))\n",
      "To add a new remote Git repository as a shortname you can reference easily, run `git remote add <shortname> <url>`:\n",
      "----------------------------------------------------------------------------------------------------\n",
      "===== Object 1 =====\n",
      "==== Adding Remote Repositories\n",
      "----------------------------------------------------------------------------------------------------\n",
      "====================================================================================================\n",
      "RETRIEVED OBJECTS FOR CHUNKING STRATEGY PARA_CHUNKS_MIN_25:\n",
      "\n",
      "===== Object 0 =====\n",
      "== Adding Remote Repositories\n",
      "\n",
      "We've mentioned and given some demonstrations of how the `git clone` command implicitly adds the `origin` remote for you.\n",
      "Here's how to add a new remote explicitly.(((git commands, remote)))\n",
      "To add a new remote Git repository as a shortname you can reference easily, run `git remote add <shortname> <url>`:\n",
      "\n",
      "[source,console]\n",
      "----\n",
      "$ git remote\n",
      "origin\n",
      "$ git remote add pb https://github.com/paulboone/ticgit\n",
      "$ git remote -v\n",
      "origin\thttps://github.com/schacon/ticgit (fetch)\n",
      "origin\thttps://github.com/schacon/ticgit (push)\n",
      "pb\thttps://github.com/paulboone/ticgit (fetch)\n",
      "pb\thttps://github.com/paulboone/ticgit (push)\n",
      "----\n",
      "\n",
      "Now you can use the string `pb` on the command line instead of the whole URL.\n",
      "For example, if you want to fetch all the information that Paul has but that you don't yet have in your repository, you can run `git fetch pb`:\n",
      "\n",
      "[source,console]\n",
      "----\n",
      "$ git fetch pb\n",
      "remote: Counting objects: 43, done.\n",
      "remote: Compressing objects: 100% (36/36), done.\n",
      "remote: Total 43 (delta 10), reused 31 (delta 5)\n",
      "Unpacking objects: 100% (43/43), done.\n",
      "From https://github.com/paulboone/ticgit\n",
      " * [new branch]      master     -> pb/master\n",
      " * [new branch]      ticgit     -> pb/ticgit\n",
      "----\n",
      "\n",
      "Paul's `master` branch is now accessible locally as `pb/master` -- you can merge it into one of your branches, or you can check out a local branch at that point if you want to inspect it.\n",
      "We'll go over what branches are and how to use them in much more detail in <<ch03-git-branching#ch03-git-branching>>.\n",
      "\n",
      "[[_fetching_and_pulling]]\n",
      "----------------------------------------------------------------------------------------------------\n",
      "===== Object 1 =====\n",
      "==\n",
      "It is entirely possible that you can be working with a \"`remote`\" repository that is, in fact, on the same host you are.\n",
      "The word \"`remote`\" does not necessarily imply that the repository is somewhere else on the network or Internet, only that it is elsewhere.\n",
      "Working with such a remote repository would still involve all the standard pushing, pulling and fetching operations as with any other remote.\n",
      "----------------------------------------------------------------------------------------------------\n",
      "====================================================================================================\n"
     ]
    }
   ],
   "source": [
    "search_string = \"how to add the url of a remote repository\"\n",
    "\n",
    "for chunking_strategy in chunk_obj_sets.keys():\n",
    "    where_filter = Filter.by_property('chunking_strategy').equal(chunking_strategy)\n",
    "    response = collection.query.near_text(search_string, filters = where_filter, limit = 2)\n",
    "    print(f\"RETRIEVED OBJECTS FOR CHUNKING STRATEGY {chunking_strategy.upper()}:\\n\")\n",
    "    for i, obj in enumerate(response.objects):\n",
    "        print(f\"===== Object {i} =====\")\n",
    "        print(f\"{obj.properties['chunk']}\")\n",
    "        print('-'*100)\n",
    "    print('='*100)"
   ]
  },
  {
   "cell_type": "markdown",
   "id": "bdb5e9cc-a5ae-4a0a-8256-95bcc0688768",
   "metadata": {},
   "source": [
    "In this example, the query was more specific, such as one made by a user looking to find out how to add the URL of a remote repository. Unlike the previous scenario, the 25-word chunks prove more useful here. Because the question was very specific, Weaviate could pinpoint the chunk with the most relevant passage—how to add a remote repository (`git remote add <shortname> <url>`). \n",
    "\n",
    "Although other result sets contain some of this information, it's important to consider how the result will be used and displayed. Longer results might require more cognitive effort from the user to extract the relevant information."
   ]
  },
  {
   "cell_type": "markdown",
   "id": "69016bf6-5a10-4da9-9314-2272e8d9e70c",
   "metadata": {},
   "source": [
    "## Incorporating in a RAG system\n",
    "\n",
    "\n",
    "We have a fully working collection, let's see how different chunk sizes impact text generation. Let's use a simple prompt."
   ]
  },
  {
   "cell_type": "code",
   "execution_count": 40,
   "id": "291edd5f-0561-4e85-8431-e292498ead23",
   "metadata": {
    "tags": []
   },
   "outputs": [],
   "source": [
    "PROMPT = \"Using this information and only this information, please explain {search_string} in a few short points.\\nContext: {context}\""
   ]
  },
  {
   "cell_type": "code",
   "execution_count": 41,
   "id": "3fb0a17a-ef4a-43f5-b5b1-a9db00833739",
   "metadata": {
    "tags": []
   },
   "outputs": [
    {
     "name": "stdout",
     "output_type": "stream",
     "text": [
      "Using this information and only this information, please explain {search_string} in a few short points.\n",
      "Context: {context}\n"
     ]
    }
   ],
   "source": [
    "print(PROMPT)"
   ]
  },
  {
   "cell_type": "code",
   "execution_count": 42,
   "id": "df45da5f-77f9-4841-aa06-fcb3440615c7",
   "metadata": {
    "tags": []
   },
   "outputs": [],
   "source": [
    "from utils import generate_with_single_input"
   ]
  },
  {
   "cell_type": "code",
   "execution_count": 44,
   "id": "c2070c20-68fa-4a45-bc06-2b47f6a53f6f",
   "metadata": {
    "tags": []
   },
   "outputs": [
    {
     "name": "stdout",
     "output_type": "stream",
     "text": [
      "Search string: history of git\n",
      "Chunking Strategy: fixed_size_25:\n",
      "Response:\n",
      "\tHere are a few short points summarizing the history of Git:\n",
      "\n",
      "1. **Creation and Early Development (2005-2008)**: Git was created by Scott Chacon and Junio Hamano in 2005. The first version was released in 2006, and it underwent significant development and refinement until 2008.\n",
      "\n",
      "2. **Initial Commit and First Public Release (2008)**: The first public release of Git was in October 2008, with Junio Hamano contributing to the project. This release included the initial commit history.\n",
      "\n",
      "3. **Maturity and Evolution (2009-Present)**: After its initial release, Git continued to evolve and mature. It became widely adopted in the open-source community and was eventually acquired by GitHub in 2018.\n",
      "\n",
      "4. **Key Features and Advancements**: Throughout its development, Git has retained its core efficiency and speed while adding new features and improving its user interface. Some notable advancements include the introduction of the `git log` command for viewing commit history and the `git status -s` flag for compact status updates.\n",
      "\n",
      "5. **Current Status and Community**: Today, Git is one of the most widely used version control systems in the world, with a large and active community of developers contributing to its development and maintenance.\n",
      "====================================================================================================\n",
      "Search string: history of git\n",
      "Chunking Strategy: fixed_size_100:\n",
      "Response:\n",
      "\tHere are a few short points summarizing the history of Git:\n",
      "\n",
      "* 1991-2002: The Linux kernel project used patches and archived files to manage changes, but later switched to a proprietary version control system called BitKeeper in 2002.\n",
      "* 2005: The relationship between the Linux kernel community and BitKeeper's developers broke down, and the tool's free status was revoked.\n",
      "* 2005: Linus Torvalds, the creator of Linux, began using Git as a replacement for BitKeeper, and it quickly gained popularity within the open-source community.\n",
      "* Since then, Git has continued to evolve and mature, becoming a widely-used and efficient version control system for large and complex projects.\n",
      "====================================================================================================\n",
      "Search string: history of git\n",
      "Chunking Strategy: para_chunks:\n",
      "Response:\n",
      "\tHere are a few short points explaining the history of Git:\n",
      "\n",
      "*   Git was first created in 2005 by Linus Torvalds, the creator of Linux, but it was initially developed by Scott Chacon and Junio Hamano.\n",
      "*   The first public version of Git was released in 2005, and it was initially called \"Git\" (short for \"General Information Tool\").\n",
      "*   In 2006, the Git project was moved to the public repository hosted by the Linux kernel project, and it was renamed to \"Git\" (the name was already in use).\n",
      "*   In 2009, the Git project was moved to GitHub, where it remains today.\n",
      "*   Over time, Git has evolved and matured to become one of the most widely used version control systems in the world, known for its speed, efficiency, and powerful branching system.\n",
      "====================================================================================================\n",
      "Search string: history of git\n",
      "Chunking Strategy: para_chunks_min_25:\n",
      "Response:\n",
      "\tHere are a few short points summarizing the history of Git:\n",
      "\n",
      "1. **Early beginnings**: Git began with the Linux kernel project in 2002, where the community used a proprietary DVCS called BitKeeper. However, the relationship between the community and the commercial company that developed BitKeeper broke down, leading to the development of a new tool.\n",
      "2. **Development of Git**: In 2005, Linus Torvalds, the creator of Linux, began developing a new tool based on the lessons learned from using BitKeeper. The goals of the new system were to be fast, simple, and fully distributed.\n",
      "3. **Maturity and evolution**: Since its birth in 2005, Git has evolved and matured to be easy to use and yet retain its initial qualities. It has become a widely-used version control system for many projects, including Linux and other open-source software.\n",
      "4. **Commit history**: Git provides a way to view the commit history of a project, which can be useful for understanding the evolution of the codebase and identifying changes made by different contributors.\n",
      "5. **Log options**: Git provides various options for customizing the output of the `git log` command, such as `--stat`, `--pretty`, and `--graph`, which can be used to display information in different formats and to visualize the commit history.\n",
      "====================================================================================================\n"
     ]
    }
   ],
   "source": [
    "# Set number of chunks to retrieve to compensate for different chunk sizes\n",
    "\n",
    "n_chunks_by_strat = dict()\n",
    "\n",
    "# Grab more of shorter chunks\n",
    "n_chunks_by_strat['fixed_size_25'] = 8\n",
    "n_chunks_by_strat['para_chunks'] = 8\n",
    "\n",
    "# Grab fewer of longer chunks\n",
    "n_chunks_by_strat['fixed_size_100'] = 2\n",
    "n_chunks_by_strat['para_chunks_min_25'] = 2\n",
    "\n",
    "# Perform Retreval augmented generation\n",
    "search_string = \"history of git\"  # Or \"available git remote commands\"\n",
    "\n",
    "for chunking_strategy in chunk_obj_sets.keys():\n",
    "    where_filter = Filter.by_property('chunking_strategy').equal(chunking_strategy)\n",
    "    response = collection.query.near_text(search_string, filters = where_filter, limit = n_chunks_by_strat[chunking_strategy])\n",
    "    context_string = \"\"\n",
    "    for obj in response.objects:\n",
    "        context_string += obj.properties['chunk'] + '\\n'\n",
    "    prompt = PROMPT.format(search_string = search_string, context = context_string)\n",
    "    response = generate_with_single_input(prompt, role = 'assistant')\n",
    "    print(f\"Search string: {search_string}\")\n",
    "    print(f\"Chunking Strategy: {chunking_strategy}:\")\n",
    "    print(f\"Response:\\n\\t{response['content']}\")\n",
    "    print('='*100)"
   ]
  },
  {
   "cell_type": "code",
   "execution_count": 45,
   "id": "e3bf43ec-7702-4fce-9eff-4b2ffab0b7d5",
   "metadata": {
    "tags": []
   },
   "outputs": [],
   "source": [
    "client.close()"
   ]
  },
  {
   "cell_type": "code",
   "execution_count": null,
   "id": "e400b585-ad63-4fe3-b011-4a4b797aea4c",
   "metadata": {},
   "outputs": [],
   "source": []
  },
  {
   "cell_type": "code",
   "execution_count": null,
   "id": "5c3522be-25cb-4241-8b10-0319c0c391f3",
   "metadata": {},
   "outputs": [],
   "source": []
  }
 ],
 "metadata": {
  "kernelspec": {
   "display_name": "Python 3 (ipykernel)",
   "language": "python",
   "name": "python3"
  },
  "language_info": {
   "codemirror_mode": {
    "name": "ipython",
    "version": 3
   },
   "file_extension": ".py",
   "mimetype": "text/x-python",
   "name": "python",
   "nbconvert_exporter": "python",
   "pygments_lexer": "ipython3",
   "version": "3.10.12"
  }
 },
 "nbformat": 4,
 "nbformat_minor": 5
}
