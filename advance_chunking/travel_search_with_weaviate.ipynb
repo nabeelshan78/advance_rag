{
 "cells": [
  {
   "cell_type": "code",
   "execution_count": 1,
   "metadata": {
    "deletable": true,
    "editable": true,
    "tags": [
     "graded"
    ]
   },
   "outputs": [],
   "source": [
    "import weaviate\n",
    "from weaviate.classes.config import Configure, Property, DataType\n",
    "from weaviate.classes.query import Filter\n",
    "from weaviate.util import generate_uuid5\n",
    "import subprocess\n",
    "from contextlib import contextmanager\n",
    "from typing import List, Union\n",
    "from tqdm import tqdm\n",
    "import joblib\n",
    "import re\n",
    "from pprint import pprint\n",
    "import os"
   ]
  },
  {
   "cell_type": "markdown",
   "metadata": {
    "tags": []
   },
   "source": [
    "### The Weaviate Client\n",
    "\n",
    "```Python\n",
    "import weaviate\n",
    "client = weaviate.connect_to_embedded(\n",
    "    version=\"1.26.1\",\n",
    "    headers={\n",
    "        \"X-OpenAI-Api-Key\": YOUR_OPENAI_API_KEY\n",
    "    },\n",
    ")\n",
    "```"
   ]
  },
  {
   "cell_type": "code",
   "execution_count": 3,
   "metadata": {
    "tags": []
   },
   "outputs": [],
   "source": [
    "@contextmanager\n",
    "def suppress_subprocess_output():\n",
    "    \"\"\"\n",
    "    Context manager that suppresses the standard output and error \n",
    "    of any subprocess. Popen calls within this context.\n",
    "    \"\"\"\n",
    "    # Store the original Popen\n",
    "    original_popen = subprocess.Popen\n",
    "\n",
    "    def patched_popen(*args, **kwargs):\n",
    "        # Redirect the stdout and stderr to subprocess.DEVNULL\n",
    "        kwargs['stdout'] = subprocess.DEVNULL\n",
    "        kwargs['stderr'] = subprocess.DEVNULL\n",
    "        return original_popen(*args, **kwargs)\n",
    "\n",
    "    try:\n",
    "        # Apply the patch by replacing subprocess.Popen with patched_popen\n",
    "        subprocess.Popen = patched_popen\n",
    "        # Yield control back to the context\n",
    "        yield\n",
    "    finally:\n",
    "        # Ensure that the original Popen method is restored\n",
    "        subprocess.Popen = original_popen\n"
   ]
  },
  {
   "cell_type": "code",
   "execution_count": 19,
   "metadata": {
    "deletable": true,
    "editable": true,
    "tags": []
   },
   "outputs": [],
   "source": [
    "with suppress_subprocess_output():\n",
    "    client = weaviate.connect_to_embedded(\n",
    "        persistence_data_path=\"./.collections\",\n",
    "        environment_variables={\n",
    "            \"ENABLE_API_BASED_MODULES\": \"true\",\n",
    "            \"ENABLE_MODULES\": 'text2vec-transformers, reranker-transformers', # We will be using a transformer model\n",
    "            \"TRANSFORMERS_INFERENCE_API\":\"http://127.0.0.1:5000/\", # The endpoint the weaviate API will be using to vectorize\n",
    "            \"RERANKER_INFERENCE_API\":\"http://127.0.0.1:5000/\" # The endpoint the weaviate API will be using to rerank\n",
    "        }\n",
    "    )"
   ]
  },
  {
   "cell_type": "code",
   "execution_count": 4,
   "metadata": {
    "tags": []
   },
   "outputs": [],
   "source": [
    "def print_properties(item):\n",
    "    print(\n",
    "        json.dumps(\n",
    "            item.properties,\n",
    "            indent=2, sort_keys=True, default=str\n",
    "        )\n",
    "    )"
   ]
  },
  {
   "cell_type": "code",
   "execution_count": 5,
   "metadata": {
    "tags": []
   },
   "outputs": [],
   "source": [
    "\n",
    "def print_object_properties(obj: Union[dict, list]) -> None:\n",
    "    t = ''\n",
    "    if isinstance(obj, dict):\n",
    "        for x, y in obj.items():\n",
    "            if x == 'article_content':\n",
    "                t += f'{x}: {y[:100]}...(truncated)\\n'\n",
    "            elif x == 'main_vector':\n",
    "                t+= f'{x}: {y[:30]}...(truncated)\\n'\n",
    "            elif x == 'chunk':\n",
    "                t+= f'{x}: {y[:100]}...(truncated)\\n'\n",
    "\n",
    "            else:\n",
    "                t+= f'{x}: {y}\\n'\n",
    "    else:\n",
    "        for l in obj:\n",
    "            for x, y in l.items():\n",
    "                if x == 'article_content':\n",
    "                    t += f'{x}: {y[:100]}...(truncated)\\n'\n",
    "                elif x == 'main_vector':\n",
    "                    t+= f'{x}: {y[:30]}...(truncated)\\n'\n",
    "                elif x == 'chunk':\n",
    "                    t+= f'{x}: {y[:100]}...(truncated)\\n'\n",
    "\n",
    "                else:\n",
    "                    t+= f'{x}: {y}\\n'\n",
    "            t += \"\\n\\n\"\n",
    "        \n",
    "    print(t)"
   ]
  },
  {
   "cell_type": "markdown",
   "metadata": {},
   "source": [
    "Creating a collection, adding elements to it and querying over it."
   ]
  },
  {
   "cell_type": "markdown",
   "metadata": {},
   "source": [
    "## Configuring the database\n",
    "\n",
    "### Creating a Collection"
   ]
  },
  {
   "cell_type": "code",
   "execution_count": 6,
   "metadata": {
    "tags": []
   },
   "outputs": [
    {
     "data": {
      "text/plain": [
       "{'place': 'Grand Canyon',\n",
       " 'state': 'Arizona',\n",
       " 'description': 'A stunning canyon with vast vistas and incredible geology.',\n",
       " 'best_season_to_visit': 'Spring, Fall',\n",
       " 'attractions': 'South Rim, Havasu Falls, Skywalk',\n",
       " 'budget': 'Moderate',\n",
       " 'user_ratings': 4.8,\n",
       " 'last_updated': '2023-10-01T00:00:00Z'}"
      ]
     },
     "execution_count": 6,
     "metadata": {},
     "output_type": "execute_result"
    }
   ],
   "source": [
    "data = joblib.load(\"data.joblib\")\n",
    "data[0]"
   ]
  },
  {
   "cell_type": "code",
   "execution_count": 7,
   "metadata": {
    "tags": []
   },
   "outputs": [
    {
     "data": {
      "text/plain": [
       "20"
      ]
     },
     "execution_count": 7,
     "metadata": {},
     "output_type": "execute_result"
    }
   ],
   "source": [
    "len(data)"
   ]
  },
  {
   "cell_type": "code",
   "execution_count": 9,
   "metadata": {
    "tags": []
   },
   "outputs": [
    {
     "data": {
      "text/plain": [
       "dict"
      ]
     },
     "execution_count": 9,
     "metadata": {},
     "output_type": "execute_result"
    }
   ],
   "source": [
    "type(data[0])"
   ]
  },
  {
   "cell_type": "code",
   "execution_count": 13,
   "metadata": {
    "tags": []
   },
   "outputs": [
    {
     "name": "stdout",
     "output_type": "stream",
     "text": [
      "place: Grand Canyon\n",
      "state: Arizona\n",
      "description: A stunning canyon with vast vistas and incredible geology.\n",
      "best_season_to_visit: Spring, Fall\n",
      "attractions: South Rim, Havasu Falls, Skywalk\n",
      "budget: Moderate\n",
      "user_ratings: 4.8\n",
      "last_updated: 2023-10-01T00:00:00Z\n",
      "\n"
     ]
    }
   ],
   "source": [
    "print_object_properties(data[0])"
   ]
  },
  {
   "cell_type": "markdown",
   "metadata": {},
   "source": [
    "The dataset is a set of places to visit, with some properties describing each location. The properties here are `place, state, description, best_season_to_visit, attractions, budget, user_ratings, last_updated`. When creating a collection, we must create one property for each key in this dictionary and add the expected datatype. "
   ]
  },
  {
   "cell_type": "markdown",
   "metadata": {},
   "source": [
    "### Configuring the Vectorizer\n",
    "\n",
    "Not every property must be vectorized, it depends on the data and the information we want to retrieve.\n",
    "\n",
    "In this case, let's use the following properties to be vectorized:\n",
    "\n",
    "`place, state, description, best_season_to_visit, attractions, budget`\n",
    "\n",
    "These properties will be appended to each other and then vectorized. When defining the property, we might choose to add the property name or not in the vectorization."
   ]
  },
  {
   "cell_type": "code",
   "execution_count": 9,
   "metadata": {
    "tags": []
   },
   "outputs": [],
   "source": [
    "vectorizer_config = [Configure.NamedVectors.text2vec_transformers(\n",
    "                name=\"vector\", # This is the name we will need to access the vectors of the objects in our collection\n",
    "                source_properties=['place', 'state', 'description', 'best_season_to_visit', 'attractions', 'budget'], # which properties should be used to generate a vector, they will be appended to each other when vectorizing\n",
    "                vectorize_collection_name = False, # This tells the client to not vectorize the collection name. \n",
    "                                                   # If True, it will be appended at the beginning of the text to be vectorized\n",
    "                inference_url=\"http://127.0.0.1:5000\", # Since we are using an API based vectorizer, we need to pass the URL used to make the calls \n",
    "                                                       # This was setup in our Flask application\n",
    "            )]"
   ]
  },
  {
   "cell_type": "markdown",
   "metadata": {},
   "source": [
    "### The Properties\n",
    "\n",
    "In a collection, the features of each data point are called Properties."
   ]
  },
  {
   "cell_type": "code",
   "execution_count": 15,
   "metadata": {
    "tags": []
   },
   "outputs": [],
   "source": [
    "# Delete the collection in case it exists\n",
    "if client.collections.exists(\"example_collection\"):\n",
    "    client.collections.delete(\"example_collection\")"
   ]
  },
  {
   "cell_type": "code",
   "execution_count": 16,
   "metadata": {
    "tags": []
   },
   "outputs": [],
   "source": [
    "if not client.collections.exists('example_collection'): # Creates only if the collection does not exist\n",
    "    collection = client.collections.create(\n",
    "            name='example_collection',\n",
    "            vectorizer_config=vectorizer_config, # The config we defined before,\n",
    "            reranker_config=Configure.Reranker.transformers(), # The reranker config\n",
    "\n",
    "            properties=[  # Define properties\n",
    "            Property(name=\"place\",vectorize_property_name=True,data_type= DataType.TEXT),\n",
    "            Property(name=\"state\",vectorize_property_name=True, data_type=DataType.TEXT),\n",
    "            Property(name=\"description\",vectorize_property_name=True, data_type=DataType.TEXT),\n",
    "            Property(name=\"best_season_to_visit\",vectorize_property_name=True, data_type=DataType.TEXT),\n",
    "            Property(name=\"attractions\",vectorize_property_name=True, data_type=DataType.TEXT),\n",
    "            Property(name=\"budget\",vectorize_property_name=True, data_type=DataType.TEXT),\n",
    "            Property(name=\"user_ratings\", data_type=DataType.NUMBER),\n",
    "            Property(name=\"last_updated\", data_type=DataType.DATE),\n",
    "\n",
    "        ]\n",
    "        )\n",
    "else:\n",
    "    collection = client.collections.get(\"example_collection\")"
   ]
  },
  {
   "cell_type": "markdown",
   "metadata": {},
   "source": [
    "Running it creates a collection and returns the collection. Printing it shows the collection configuration."
   ]
  },
  {
   "cell_type": "code",
   "execution_count": 17,
   "metadata": {
    "tags": []
   },
   "outputs": [
    {
     "name": "stdout",
     "output_type": "stream",
     "text": [
      "<weaviate.Collection config={\n",
      "  \"name\": \"Example_collection\",\n",
      "  \"description\": null,\n",
      "  \"generative_config\": null,\n",
      "  \"inverted_index_config\": {\n",
      "    \"bm25\": {\n",
      "      \"b\": 0.75,\n",
      "      \"k1\": 1.2\n",
      "    },\n",
      "    \"cleanup_interval_seconds\": 60,\n",
      "    \"index_null_state\": false,\n",
      "    \"index_property_length\": false,\n",
      "    \"index_timestamps\": false,\n",
      "    \"stopwords\": {\n",
      "      \"preset\": \"en\",\n",
      "      \"additions\": null,\n",
      "      \"removals\": null\n",
      "    }\n",
      "  },\n",
      "  \"multi_tenancy_config\": {\n",
      "    \"enabled\": false,\n",
      "    \"auto_tenant_creation\": false,\n",
      "    \"auto_tenant_activation\": false\n",
      "  },\n",
      "  \"properties\": [\n",
      "    {\n",
      "      \"name\": \"place\",\n",
      "      \"description\": null,\n",
      "      \"data_type\": \"text\",\n",
      "      \"index_filterable\": true,\n",
      "      \"index_range_filters\": false,\n",
      "      \"index_searchable\": true,\n",
      "      \"nested_properties\": null,\n",
      "      \"tokenization\": \"word\",\n",
      "      \"vectorizer_config\": null,\n",
      "      \"vectorizer\": null,\n",
      "      \"vectorizer_configs\": {\n",
      "        \"text2vec-transformers\": {\n",
      "          \"skip\": false,\n",
      "          \"vectorize_property_name\": true\n",
      "        }\n",
      "      }\n",
      "    },\n",
      "    {\n",
      "      \"name\": \"state\",\n",
      "      \"description\": null,\n",
      "      \"data_type\": \"text\",\n",
      "      \"index_filterable\": true,\n",
      "      \"index_range_filters\": false,\n",
      "      \"index_searchable\": true,\n",
      "      \"nested_properties\": null,\n",
      "      \"tokenization\": \"word\",\n",
      "      \"vectorizer_config\": null,\n",
      "      \"vectorizer\": null,\n",
      "      \"vectorizer_configs\": {\n",
      "        \"text2vec-transformers\": {\n",
      "          \"skip\": false,\n",
      "          \"vectorize_property_name\": true\n",
      "        }\n",
      "      }\n",
      "    },\n",
      "    {\n",
      "      \"name\": \"description\",\n",
      "      \"description\": null,\n",
      "      \"data_type\": \"text\",\n",
      "      \"index_filterable\": true,\n",
      "      \"index_range_filters\": false,\n",
      "      \"index_searchable\": true,\n",
      "      \"nested_properties\": null,\n",
      "      \"tokenization\": \"word\",\n",
      "      \"vectorizer_config\": null,\n",
      "      \"vectorizer\": null,\n",
      "      \"vectorizer_configs\": {\n",
      "        \"text2vec-transformers\": {\n",
      "          \"skip\": false,\n",
      "          \"vectorize_property_name\": true\n",
      "        }\n",
      "      }\n",
      "    },\n",
      "    {\n",
      "      \"name\": \"best_season_to_visit\",\n",
      "      \"description\": null,\n",
      "      \"data_type\": \"text\",\n",
      "      \"index_filterable\": true,\n",
      "      \"index_range_filters\": false,\n",
      "      \"index_searchable\": true,\n",
      "      \"nested_properties\": null,\n",
      "      \"tokenization\": \"word\",\n",
      "      \"vectorizer_config\": null,\n",
      "      \"vectorizer\": null,\n",
      "      \"vectorizer_configs\": {\n",
      "        \"text2vec-transformers\": {\n",
      "          \"skip\": false,\n",
      "          \"vectorize_property_name\": true\n",
      "        }\n",
      "      }\n",
      "    },\n",
      "    {\n",
      "      \"name\": \"attractions\",\n",
      "      \"description\": null,\n",
      "      \"data_type\": \"text\",\n",
      "      \"index_filterable\": true,\n",
      "      \"index_range_filters\": false,\n",
      "      \"index_searchable\": true,\n",
      "      \"nested_properties\": null,\n",
      "      \"tokenization\": \"word\",\n",
      "      \"vectorizer_config\": null,\n",
      "      \"vectorizer\": null,\n",
      "      \"vectorizer_configs\": {\n",
      "        \"text2vec-transformers\": {\n",
      "          \"skip\": false,\n",
      "          \"vectorize_property_name\": true\n",
      "        }\n",
      "      }\n",
      "    },\n",
      "    {\n",
      "      \"name\": \"budget\",\n",
      "      \"description\": null,\n",
      "      \"data_type\": \"text\",\n",
      "      \"index_filterable\": true,\n",
      "      \"index_range_filters\": false,\n",
      "      \"index_searchable\": true,\n",
      "      \"nested_properties\": null,\n",
      "      \"tokenization\": \"word\",\n",
      "      \"vectorizer_config\": null,\n",
      "      \"vectorizer\": null,\n",
      "      \"vectorizer_configs\": {\n",
      "        \"text2vec-transformers\": {\n",
      "          \"skip\": false,\n",
      "          \"vectorize_property_name\": true\n",
      "        }\n",
      "      }\n",
      "    },\n",
      "    {\n",
      "      \"name\": \"user_ratings\",\n",
      "      \"description\": null,\n",
      "      \"data_type\": \"number\",\n",
      "      \"index_filterable\": true,\n",
      "      \"index_range_filters\": false,\n",
      "      \"index_searchable\": false,\n",
      "      \"nested_properties\": null,\n",
      "      \"tokenization\": null,\n",
      "      \"vectorizer_config\": null,\n",
      "      \"vectorizer\": null,\n",
      "      \"vectorizer_configs\": {\n",
      "        \"text2vec-transformers\": {\n",
      "          \"skip\": false,\n",
      "          \"vectorize_property_name\": true\n",
      "        }\n",
      "      }\n",
      "    },\n",
      "    {\n",
      "      \"name\": \"last_updated\",\n",
      "      \"description\": null,\n",
      "      \"data_type\": \"date\",\n",
      "      \"index_filterable\": true,\n",
      "      \"index_range_filters\": false,\n",
      "      \"index_searchable\": false,\n",
      "      \"nested_properties\": null,\n",
      "      \"tokenization\": null,\n",
      "      \"vectorizer_config\": null,\n",
      "      \"vectorizer\": null,\n",
      "      \"vectorizer_configs\": {\n",
      "        \"text2vec-transformers\": {\n",
      "          \"skip\": false,\n",
      "          \"vectorize_property_name\": true\n",
      "        }\n",
      "      }\n",
      "    }\n",
      "  ],\n",
      "  \"references\": [],\n",
      "  \"replication_config\": {\n",
      "    \"factor\": 1,\n",
      "    \"async_enabled\": false,\n",
      "    \"deletion_strategy\": \"NoAutomatedResolution\"\n",
      "  },\n",
      "  \"reranker_config\": {\n",
      "    \"model\": {},\n",
      "    \"reranker\": \"reranker-transformers\"\n",
      "  },\n",
      "  \"sharding_config\": {\n",
      "    \"virtual_per_physical\": 128,\n",
      "    \"desired_count\": 1,\n",
      "    \"actual_count\": 1,\n",
      "    \"desired_virtual_count\": 128,\n",
      "    \"actual_virtual_count\": 128,\n",
      "    \"key\": \"_id\",\n",
      "    \"strategy\": \"hash\",\n",
      "    \"function\": \"murmur3\"\n",
      "  },\n",
      "  \"vector_index_config\": null,\n",
      "  \"vector_index_type\": null,\n",
      "  \"vectorizer_config\": null,\n",
      "  \"vectorizer\": null,\n",
      "  \"vector_config\": {\n",
      "    \"vector\": {\n",
      "      \"vectorizer\": {\n",
      "        \"vectorizer\": \"text2vec-transformers\",\n",
      "        \"model\": {\n",
      "          \"inferenceUrl\": \"http://127.0.0.1:5000\",\n",
      "          \"poolingStrategy\": \"masked_mean\",\n",
      "          \"vectorizeClassName\": false\n",
      "        },\n",
      "        \"source_properties\": [\n",
      "          \"place\",\n",
      "          \"state\",\n",
      "          \"description\",\n",
      "          \"best_season_to_visit\",\n",
      "          \"attractions\",\n",
      "          \"budget\"\n",
      "        ]\n",
      "      },\n",
      "      \"vector_index_config\": {\n",
      "        \"multi_vector\": null,\n",
      "        \"quantizer\": null,\n",
      "        \"cleanup_interval_seconds\": 300,\n",
      "        \"distance_metric\": \"cosine\",\n",
      "        \"dynamic_ef_min\": 100,\n",
      "        \"dynamic_ef_max\": 500,\n",
      "        \"dynamic_ef_factor\": 8,\n",
      "        \"ef\": -1,\n",
      "        \"ef_construction\": 128,\n",
      "        \"filter_strategy\": \"sweeping\",\n",
      "        \"flat_search_cutoff\": 40000,\n",
      "        \"max_connections\": 32,\n",
      "        \"skip\": false,\n",
      "        \"vector_cache_max_objects\": 1000000000000\n",
      "      }\n",
      "    }\n",
      "  }\n",
      "}>\n"
     ]
    }
   ],
   "source": [
    "print(collection)"
   ]
  },
  {
   "cell_type": "markdown",
   "metadata": {},
   "source": [
    "If we try to create a collection that already exists, an exception will be thrown:"
   ]
  },
  {
   "cell_type": "code",
   "execution_count": 18,
   "metadata": {
    "tags": []
   },
   "outputs": [
    {
     "name": "stdout",
     "output_type": "stream",
     "text": [
      "Collection may not have been created properly.! Unexpected status code: 422, with response body: {'error': [{'message': 'class name Example_collection already exists'}]}.\n"
     ]
    }
   ],
   "source": [
    "try:\n",
    "    collection = client.collections.create(\n",
    "        name='example_collection',\n",
    "\n",
    "        vectorizer_config=vectorizer_config, # The config we defined before,\n",
    "    \n",
    "        properties=[  # Define properties\n",
    "        Property(name=\"place\",vectorize_property_name=True,data_type= DataType.TEXT),\n",
    "        Property(name=\"state\",vectorize_property_name=True, data_type=DataType.TEXT),\n",
    "        Property(name=\"description\",vectorize_property_name=True, data_type=DataType.TEXT),\n",
    "        Property(name=\"best_season_to_visit\",vectorize_property_name=True, data_type=DataType.TEXT),\n",
    "        Property(name=\"attractions\",vectorize_property_name=True, data_type=DataType.TEXT),\n",
    "        Property(name=\"budget\",vectorize_property_name=True, data_type=DataType.TEXT),\n",
    "        Property(name=\"user_ratings\", data_type=DataType.NUMBER),\n",
    "        Property(name=\"last_updated\", data_type=DataType.DATE),\n",
    "                 \n",
    "    ]\n",
    "    )\n",
    "except Exception as e:\n",
    "    print(e)"
   ]
  },
  {
   "cell_type": "code",
   "execution_count": 19,
   "metadata": {
    "tags": []
   },
   "outputs": [
    {
     "data": {
      "text/plain": [
       "dict_keys(['Example_collection'])"
      ]
     },
     "execution_count": 19,
     "metadata": {},
     "output_type": "execute_result"
    }
   ],
   "source": [
    "client.collections.list_all().keys()"
   ]
  },
  {
   "cell_type": "markdown",
   "metadata": {},
   "source": [
    "### Adding elements into a Collection\n",
    "\n",
    "When we add an element, two important steps happen in the background:\n",
    "\n",
    "1. The information is vectorized (as configured in the collection definition)\n",
    "2. The HNSW index is updated to optimize search. "
   ]
  },
  {
   "cell_type": "code",
   "execution_count": 20,
   "metadata": {
    "tags": []
   },
   "outputs": [
    {
     "name": "stderr",
     "output_type": "stream",
     "text": [
      "100%|██████████| 20/20 [00:06<00:00,  3.01it/s]\n"
     ]
    }
   ],
   "source": [
    "# Set up a batch process with specified fixed size and concurrency\n",
    "with collection.batch.fixed_size(batch_size=1, concurrent_requests=1) as batch:\n",
    "    # Iterate over a subset of the dataset\n",
    "    for document in tqdm(data):\n",
    "            # Generate a UUID based on the article_content text for unique identification\n",
    "            uuid = generate_uuid5(document)\n",
    "\n",
    "            # Add the object to the batch with properties and UUID. \n",
    "            # properties expects a dictionary with the keys being the properties.\n",
    "            batch.add_object(\n",
    "                properties=document,\n",
    "                uuid=uuid,\n",
    "            )"
   ]
  },
  {
   "cell_type": "code",
   "execution_count": 21,
   "metadata": {
    "tags": []
   },
   "outputs": [
    {
     "data": {
      "text/plain": [
       "20"
      ]
     },
     "execution_count": 21,
     "metadata": {},
     "output_type": "execute_result"
    }
   ],
   "source": [
    "len(collection)"
   ]
  },
  {
   "cell_type": "markdown",
   "metadata": {},
   "source": [
    "## Querying on a collection\n",
    "\n",
    "- Query on metadata\n",
    "- Query with semantic search\n",
    "- Query with BM25\n",
    "- Query with filtering"
   ]
  },
  {
   "cell_type": "markdown",
   "metadata": {},
   "source": [
    "### Filters"
   ]
  },
  {
   "cell_type": "code",
   "execution_count": 22,
   "metadata": {
    "tags": []
   },
   "outputs": [],
   "source": [
    "# Here we are fetching 2 objects with a filter by property, filtering by 'user_ratings, only objects with value greater or equal to 3.5'\n",
    "result = collection.query.fetch_objects(limit = 2, filters = Filter.by_property('user_ratings').greater_or_equal(3.5))"
   ]
  },
  {
   "cell_type": "code",
   "execution_count": 23,
   "metadata": {
    "tags": []
   },
   "outputs": [
    {
     "data": {
      "text/plain": [
       "QueryReturn(objects=[Object(uuid=_WeaviateUUIDInt('c99763a3-46a0-59d4-831b-af9bc290260c'), metadata=MetadataReturn(creation_time=None, last_update_time=None, distance=None, certainty=None, score=None, explain_score=None, is_consistent=None, rerank_score=None), properties={'state': 'California', 'best_season_to_visit': 'Spring', 'place': 'Hollywood', 'description': 'Famous district in Los Angeles known as the entertainment capital of the world.', 'user_ratings': 4.2, 'budget': 'Moderate', 'attractions': 'Walk of Fame, Hollywood Sign', 'last_updated': datetime.datetime(2023, 10, 1, 0, 0, tzinfo=datetime.timezone.utc)}, references=None, vector={}, collection='Example_collection'), Object(uuid=_WeaviateUUIDInt('9e5ba590-8c75-5b53-9b0a-8a9c161004ad'), metadata=MetadataReturn(creation_time=None, last_update_time=None, distance=None, certainty=None, score=None, explain_score=None, is_consistent=None, rerank_score=None), properties={'state': 'New York', 'best_season_to_visit': 'Winter', 'place': 'Times Square', 'description': 'Bustling pedestrian intersection and major commercial hub.', 'user_ratings': 4.3, 'budget': 'Low', 'attractions': 'Broadway Theaters, New Year’s Eve Ball Drop', 'last_updated': datetime.datetime(2023, 10, 1, 0, 0, tzinfo=datetime.timezone.utc)}, references=None, vector={}, collection='Example_collection')])"
      ]
     },
     "execution_count": 23,
     "metadata": {},
     "output_type": "execute_result"
    }
   ],
   "source": [
    "result"
   ]
  },
  {
   "cell_type": "code",
   "execution_count": 24,
   "metadata": {
    "tags": []
   },
   "outputs": [
    {
     "data": {
      "text/plain": [
       "[Object(uuid=_WeaviateUUIDInt('c99763a3-46a0-59d4-831b-af9bc290260c'), metadata=MetadataReturn(creation_time=None, last_update_time=None, distance=None, certainty=None, score=None, explain_score=None, is_consistent=None, rerank_score=None), properties={'state': 'California', 'best_season_to_visit': 'Spring', 'place': 'Hollywood', 'description': 'Famous district in Los Angeles known as the entertainment capital of the world.', 'user_ratings': 4.2, 'budget': 'Moderate', 'attractions': 'Walk of Fame, Hollywood Sign', 'last_updated': datetime.datetime(2023, 10, 1, 0, 0, tzinfo=datetime.timezone.utc)}, references=None, vector={}, collection='Example_collection'),\n",
       " Object(uuid=_WeaviateUUIDInt('9e5ba590-8c75-5b53-9b0a-8a9c161004ad'), metadata=MetadataReturn(creation_time=None, last_update_time=None, distance=None, certainty=None, score=None, explain_score=None, is_consistent=None, rerank_score=None), properties={'state': 'New York', 'best_season_to_visit': 'Winter', 'place': 'Times Square', 'description': 'Bustling pedestrian intersection and major commercial hub.', 'user_ratings': 4.3, 'budget': 'Low', 'attractions': 'Broadway Theaters, New Year’s Eve Ball Drop', 'last_updated': datetime.datetime(2023, 10, 1, 0, 0, tzinfo=datetime.timezone.utc)}, references=None, vector={}, collection='Example_collection')]"
      ]
     },
     "execution_count": 24,
     "metadata": {},
     "output_type": "execute_result"
    }
   ],
   "source": [
    "result.objects"
   ]
  },
  {
   "cell_type": "code",
   "execution_count": 25,
   "metadata": {
    "tags": []
   },
   "outputs": [],
   "source": [
    "obj = result.objects[0]"
   ]
  },
  {
   "cell_type": "code",
   "execution_count": 26,
   "metadata": {
    "tags": []
   },
   "outputs": [
    {
     "data": {
      "text/plain": [
       "{'state': 'California',\n",
       " 'best_season_to_visit': 'Spring',\n",
       " 'place': 'Hollywood',\n",
       " 'description': 'Famous district in Los Angeles known as the entertainment capital of the world.',\n",
       " 'user_ratings': 4.2,\n",
       " 'budget': 'Moderate',\n",
       " 'attractions': 'Walk of Fame, Hollywood Sign',\n",
       " 'last_updated': datetime.datetime(2023, 10, 1, 0, 0, tzinfo=datetime.timezone.utc)}"
      ]
     },
     "execution_count": 26,
     "metadata": {},
     "output_type": "execute_result"
    }
   ],
   "source": [
    "obj.properties"
   ]
  },
  {
   "cell_type": "markdown",
   "metadata": {},
   "source": [
    "### Semantic Search"
   ]
  },
  {
   "cell_type": "code",
   "execution_count": 27,
   "metadata": {
    "tags": []
   },
   "outputs": [],
   "source": [
    "result = collection.query.near_text(query = 'I want suggestions to travel during Winter. I want cheap places.', limit = 4)"
   ]
  },
  {
   "cell_type": "code",
   "execution_count": 28,
   "metadata": {
    "tags": []
   },
   "outputs": [
    {
     "name": "stdout",
     "output_type": "stream",
     "text": [
      "state: New York\n",
      "budget: Low\n",
      "place: Times Square\n",
      "description: Bustling pedestrian intersection and major commercial hub.\n",
      "user_ratings: 4.3\n",
      "best_season_to_visit: Winter\n",
      "attractions: Broadway Theaters, New Year’s Eve Ball Drop\n",
      "last_updated: 2023-10-01 00:00:00+00:00\n",
      "\n",
      "state: Montana\n",
      "best_season_to_visit: Summer\n",
      "place: Glacier National Park\n",
      "description: Park known for its rugged mountains and alpine forests.\n",
      "user_ratings: 4.8\n",
      "budget: Moderate\n",
      "attractions: Going-to-the-Sun Road, Grinnell Glacier\n",
      "last_updated: 2023-10-01 00:00:00+00:00\n",
      "\n",
      "state: Utah\n",
      "best_season_to_visit: Spring, Fall\n",
      "place: Zion National Park\n",
      "description: Beautiful park known for its impressive canyons and towering cliffs.\n",
      "user_ratings: 4.7\n",
      "budget: Moderate\n",
      "attractions: The Narrows, Angels Landing\n",
      "last_updated: 2023-10-01 00:00:00+00:00\n",
      "\n",
      "state: Massachusetts\n",
      "budget: Moderate\n",
      "place: Cape Cod\n",
      "description: Popular tourist destination known for its beaches and quaint towns.\n",
      "user_ratings: 4.5\n",
      "best_season_to_visit: Summer\n",
      "attractions: Nantucket Island, Cape Cod National Seashore\n",
      "last_updated: 2023-10-01 00:00:00+00:00\n",
      "\n"
     ]
    }
   ],
   "source": [
    "# Let's iterate over the result objects and return their properties\n",
    "for obj in result.objects:\n",
    "    print_object_properties(obj.properties)"
   ]
  },
  {
   "cell_type": "markdown",
   "metadata": {},
   "source": [
    "query over the elements with `budget = Low`:"
   ]
  },
  {
   "cell_type": "code",
   "execution_count": 29,
   "metadata": {
    "tags": []
   },
   "outputs": [],
   "source": [
    "result = collection.query.near_text(query = 'I want suggestions to travel during Winter. I want cheap places.', \n",
    "                                    filters = Filter.by_property('budget').equal('Low'),\n",
    "                                    limit = 4)"
   ]
  },
  {
   "cell_type": "code",
   "execution_count": 30,
   "metadata": {
    "tags": []
   },
   "outputs": [
    {
     "name": "stdout",
     "output_type": "stream",
     "text": [
      "state: New York\n",
      "best_season_to_visit: Winter\n",
      "place: Times Square\n",
      "description: Bustling pedestrian intersection and major commercial hub.\n",
      "user_ratings: 4.3\n",
      "budget: Low\n",
      "attractions: Broadway Theaters, New Year’s Eve Ball Drop\n",
      "last_updated: 2023-10-01 00:00:00+00:00\n",
      "\n",
      "state: California\n",
      "best_season_to_visit: Spring, Summer\n",
      "place: Alcatraz Island\n",
      "description: Famed former prison island located in San Francisco Bay.\n",
      "user_ratings: 4.4\n",
      "budget: Low\n",
      "attractions: Cellhouse Tour, Alcatraz Lighthouse\n",
      "last_updated: 2023-10-01 00:00:00+00:00\n",
      "\n",
      "state: Pennsylvania\n",
      "best_season_to_visit: Spring, Fall\n",
      "place: Gettysburg National Military Park\n",
      "description: Historic site of a major Civil War battle.\n",
      "user_ratings: 4.6\n",
      "budget: Low\n",
      "attractions: Gettysburg Museum, Battlefield Tours\n",
      "last_updated: 2023-10-01 00:00:00+00:00\n",
      "\n",
      "state: New York\n",
      "best_season_to_visit: Spring, Fall\n",
      "place: Statue of Liberty\n",
      "description: Iconic symbol of freedom and democracy in the United States.\n",
      "user_ratings: 4.5\n",
      "budget: Low\n",
      "attractions: Ellis Island, Liberty Island Museum\n",
      "last_updated: 2023-10-01 00:00:00+00:00\n",
      "\n"
     ]
    }
   ],
   "source": [
    "# Let's iterate over the result objects and return their properties\n",
    "for obj in result.objects:\n",
    "    print_object_properties(obj.properties)"
   ]
  },
  {
   "cell_type": "markdown",
   "metadata": {},
   "source": [
    "Possible values on a filter, by using `.contains_any`:"
   ]
  },
  {
   "cell_type": "code",
   "execution_count": 31,
   "metadata": {
    "tags": []
   },
   "outputs": [],
   "source": [
    "result = collection.query.near_text(query = 'I want suggestions to travel during Winter. I want cheap places.', \n",
    "                                    filters = Filter.by_property('budget').contains_any(['Low', 'Moderate']),\n",
    "                                    limit = 4)"
   ]
  },
  {
   "cell_type": "code",
   "execution_count": 32,
   "metadata": {
    "tags": []
   },
   "outputs": [
    {
     "name": "stdout",
     "output_type": "stream",
     "text": [
      "state: New York\n",
      "budget: Low\n",
      "place: Times Square\n",
      "description: Bustling pedestrian intersection and major commercial hub.\n",
      "user_ratings: 4.3\n",
      "best_season_to_visit: Winter\n",
      "attractions: Broadway Theaters, New Year’s Eve Ball Drop\n",
      "last_updated: 2023-10-01 00:00:00+00:00\n",
      "\n",
      "state: Montana\n",
      "budget: Moderate\n",
      "place: Glacier National Park\n",
      "description: Park known for its rugged mountains and alpine forests.\n",
      "user_ratings: 4.8\n",
      "best_season_to_visit: Summer\n",
      "attractions: Going-to-the-Sun Road, Grinnell Glacier\n",
      "last_updated: 2023-10-01 00:00:00+00:00\n",
      "\n",
      "state: Utah\n",
      "best_season_to_visit: Spring, Fall\n",
      "place: Zion National Park\n",
      "description: Beautiful park known for its impressive canyons and towering cliffs.\n",
      "user_ratings: 4.7\n",
      "budget: Moderate\n",
      "attractions: The Narrows, Angels Landing\n",
      "last_updated: 2023-10-01 00:00:00+00:00\n",
      "\n",
      "state: Massachusetts\n",
      "best_season_to_visit: Summer\n",
      "place: Cape Cod\n",
      "description: Popular tourist destination known for its beaches and quaint towns.\n",
      "user_ratings: 4.5\n",
      "budget: Moderate\n",
      "attractions: Nantucket Island, Cape Cod National Seashore\n",
      "last_updated: 2023-10-01 00:00:00+00:00\n",
      "\n"
     ]
    }
   ],
   "source": [
    "# Let's iterate over the result objects and return their properties\n",
    "for obj in result.objects:\n",
    "    print_object_properties(obj.properties)"
   ]
  },
  {
   "cell_type": "markdown",
   "metadata": {},
   "source": [
    "### BM25 search"
   ]
  },
  {
   "cell_type": "code",
   "execution_count": 33,
   "metadata": {
    "tags": []
   },
   "outputs": [],
   "source": [
    "result = collection.query.bm25(query = 'I want suggestions to travel during Winter. I want cheap places.', \n",
    "                                    filters = Filter.by_property('budget').contains_any(['Low', 'Moderate']),\n",
    "                                    limit = 4)"
   ]
  },
  {
   "cell_type": "code",
   "execution_count": 34,
   "metadata": {
    "tags": []
   },
   "outputs": [
    {
     "name": "stdout",
     "output_type": "stream",
     "text": [
      "state: New York\n",
      "budget: Low\n",
      "place: Times Square\n",
      "description: Bustling pedestrian intersection and major commercial hub.\n",
      "user_ratings: 4.3\n",
      "best_season_to_visit: Winter\n",
      "attractions: Broadway Theaters, New Year’s Eve Ball Drop\n",
      "last_updated: 2023-10-01 00:00:00+00:00\n",
      "\n"
     ]
    }
   ],
   "source": [
    "# Let's iterate over the result objects and return their properties\n",
    "for obj in result.objects:\n",
    "    print_object_properties(obj.properties)"
   ]
  },
  {
   "cell_type": "markdown",
   "metadata": {},
   "source": [
    "### Hybrid Search -- RRF"
   ]
  },
  {
   "cell_type": "code",
   "execution_count": 35,
   "metadata": {
    "tags": []
   },
   "outputs": [],
   "source": [
    "result = collection.query.hybrid(query = 'I want suggestions to travel during Winter. I want cheap places.', \n",
    "                                    filters = Filter.by_property('budget').contains_any(['Low', 'Moderate']),\n",
    "                                    alpha = 0.3,\n",
    "                                    limit = 4)"
   ]
  },
  {
   "cell_type": "code",
   "execution_count": 36,
   "metadata": {
    "tags": []
   },
   "outputs": [
    {
     "name": "stdout",
     "output_type": "stream",
     "text": [
      "state: New York\n",
      "best_season_to_visit: Winter\n",
      "place: Times Square\n",
      "description: Bustling pedestrian intersection and major commercial hub.\n",
      "user_ratings: 4.3\n",
      "budget: Low\n",
      "attractions: Broadway Theaters, New Year’s Eve Ball Drop\n",
      "last_updated: 2023-10-01 00:00:00+00:00\n",
      "\n",
      "state: Montana\n",
      "best_season_to_visit: Summer\n",
      "place: Glacier National Park\n",
      "description: Park known for its rugged mountains and alpine forests.\n",
      "user_ratings: 4.8\n",
      "budget: Moderate\n",
      "attractions: Going-to-the-Sun Road, Grinnell Glacier\n",
      "last_updated: 2023-10-01 00:00:00+00:00\n",
      "\n",
      "state: Utah\n",
      "best_season_to_visit: Spring, Fall\n",
      "place: Zion National Park\n",
      "description: Beautiful park known for its impressive canyons and towering cliffs.\n",
      "user_ratings: 4.7\n",
      "budget: Moderate\n",
      "attractions: The Narrows, Angels Landing\n",
      "last_updated: 2023-10-01 00:00:00+00:00\n",
      "\n",
      "state: Massachusetts\n",
      "budget: Moderate\n",
      "place: Cape Cod\n",
      "description: Popular tourist destination known for its beaches and quaint towns.\n",
      "user_ratings: 4.5\n",
      "best_season_to_visit: Summer\n",
      "attractions: Nantucket Island, Cape Cod National Seashore\n",
      "last_updated: 2023-10-01 00:00:00+00:00\n",
      "\n"
     ]
    }
   ],
   "source": [
    "# Let's iterate over the result objects and return their properties\n",
    "for obj in result.objects:\n",
    "    print_object_properties(obj.properties)"
   ]
  },
  {
   "cell_type": "markdown",
   "metadata": {},
   "source": [
    "### Reranking"
   ]
  },
  {
   "cell_type": "code",
   "execution_count": 37,
   "metadata": {
    "tags": []
   },
   "outputs": [],
   "source": [
    "from weaviate.classes.query import Rerank\n",
    "\n",
    "response = collection.query.near_text(\n",
    "    query=\"'I want suggestions to travel during Winter. I want cheap and fun places.'\",  \n",
    "    limit=5,\n",
    "    rerank=Rerank(\n",
    "        prop=\"attractions\",                   # The property to rerank on\n",
    "        query=\"Fun places\"  # If not provided, the original query will be used\n",
    "    )\n",
    ")"
   ]
  },
  {
   "cell_type": "code",
   "execution_count": null,
   "metadata": {
    "tags": []
   },
   "outputs": [],
   "source": []
  },
  {
   "cell_type": "code",
   "execution_count": 44,
   "metadata": {
    "tags": []
   },
   "outputs": [
    {
     "name": "stdout",
     "output_type": "stream",
     "text": [
      "state: Florida\n",
      "best_season_to_visit: Winter\n",
      "place: Epcot Center\n",
      "description: Theme park at Walt Disney World Resort known for celebrating human achievement.\n",
      "user_ratings: 4.6\n",
      "budget: High\n",
      "attractions: Spaceship Earth, World Showcase\n",
      "last_updated: 2023-10-01 00:00:00+00:00\n",
      "\n",
      "state: Montana\n",
      "budget: Moderate\n",
      "place: Glacier National Park\n",
      "description: Park known for its rugged mountains and alpine forests.\n",
      "user_ratings: 4.8\n",
      "best_season_to_visit: Summer\n",
      "attractions: Going-to-the-Sun Road, Grinnell Glacier\n",
      "last_updated: 2023-10-01 00:00:00+00:00\n",
      "\n",
      "state: Utah\n",
      "budget: Moderate\n",
      "place: Zion National Park\n",
      "description: Beautiful park known for its impressive canyons and towering cliffs.\n",
      "user_ratings: 4.7\n",
      "best_season_to_visit: Spring, Fall\n",
      "attractions: The Narrows, Angels Landing\n",
      "last_updated: 2023-10-01 00:00:00+00:00\n",
      "\n",
      "state: Massachusetts\n",
      "best_season_to_visit: Summer\n",
      "place: Cape Cod\n",
      "description: Popular tourist destination known for its beaches and quaint towns.\n",
      "user_ratings: 4.5\n",
      "budget: Moderate\n",
      "attractions: Nantucket Island, Cape Cod National Seashore\n",
      "last_updated: 2023-10-01 00:00:00+00:00\n",
      "\n",
      "state: New York\n",
      "best_season_to_visit: Winter\n",
      "place: Times Square\n",
      "description: Bustling pedestrian intersection and major commercial hub.\n",
      "user_ratings: 4.3\n",
      "budget: Low\n",
      "attractions: Broadway Theaters, New Year’s Eve Ball Drop\n",
      "last_updated: 2023-10-01 00:00:00+00:00\n",
      "\n"
     ]
    }
   ],
   "source": [
    "# Let's iterate over the result objects and return their properties\n",
    "for obj in response.objects:\n",
    "    print_object_properties(obj.properties)"
   ]
  },
  {
   "cell_type": "code",
   "execution_count": 45,
   "metadata": {
    "tags": []
   },
   "outputs": [],
   "source": [
    "client.close()"
   ]
  },
  {
   "cell_type": "code",
   "execution_count": null,
   "metadata": {},
   "outputs": [],
   "source": []
  },
  {
   "cell_type": "code",
   "execution_count": null,
   "metadata": {},
   "outputs": [],
   "source": []
  }
 ],
 "metadata": {
  "kernelspec": {
   "display_name": "Python 3 (ipykernel)",
   "language": "python",
   "name": "python3"
  },
  "language_info": {
   "codemirror_mode": {
    "name": "ipython",
    "version": 3
   },
   "file_extension": ".py",
   "mimetype": "text/x-python",
   "name": "python",
   "nbconvert_exporter": "python",
   "pygments_lexer": "ipython3",
   "version": "3.10.12"
  }
 },
 "nbformat": 4,
 "nbformat_minor": 4
}
